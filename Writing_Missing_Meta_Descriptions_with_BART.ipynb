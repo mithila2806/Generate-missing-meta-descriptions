{
  "nbformat": 4,
  "nbformat_minor": 0,
  "metadata": {
    "colab": {
      "name": "Writing Missing Meta Descriptions with BART",
      "provenance": [],
      "collapsed_sections": [
        "p00mk90Szg6w",
        "XNq3kDN3WRQt"
      ],
      "machine_shape": "hm"
    },
    "kernelspec": {
      "name": "python3",
      "display_name": "Python 3"
    },
    "accelerator": "GPU",
    "widgets": {
      "application/vnd.jupyter.widget-state+json": {
        "e23d40f300bc4bc796d1f1e3a73a36ae": {
          "model_module": "@jupyter-widgets/controls",
          "model_name": "HBoxModel",
          "state": {
            "_view_name": "HBoxView",
            "_dom_classes": [],
            "_model_name": "HBoxModel",
            "_view_module": "@jupyter-widgets/controls",
            "_model_module_version": "1.5.0",
            "_view_count": null,
            "_view_module_version": "1.5.0",
            "box_style": "",
            "layout": "IPY_MODEL_1290d1d73c4c41729851a570c2b5e5b3",
            "_model_module": "@jupyter-widgets/controls",
            "children": [
              "IPY_MODEL_d02bb14d90c646f5b1157be1e5fae9fa",
              "IPY_MODEL_9a948dc723c24a16834083d0ffcdb2c8"
            ]
          }
        },
        "1290d1d73c4c41729851a570c2b5e5b3": {
          "model_module": "@jupyter-widgets/base",
          "model_name": "LayoutModel",
          "state": {
            "_view_name": "LayoutView",
            "grid_template_rows": null,
            "right": null,
            "justify_content": null,
            "_view_module": "@jupyter-widgets/base",
            "overflow": null,
            "_model_module_version": "1.2.0",
            "_view_count": null,
            "flex_flow": null,
            "width": null,
            "min_width": null,
            "border": null,
            "align_items": null,
            "bottom": null,
            "_model_module": "@jupyter-widgets/base",
            "top": null,
            "grid_column": null,
            "overflow_y": null,
            "overflow_x": null,
            "grid_auto_flow": null,
            "grid_area": null,
            "grid_template_columns": null,
            "flex": null,
            "_model_name": "LayoutModel",
            "justify_items": null,
            "grid_row": null,
            "max_height": null,
            "align_content": null,
            "visibility": null,
            "align_self": null,
            "height": null,
            "min_height": null,
            "padding": null,
            "grid_auto_rows": null,
            "grid_gap": null,
            "max_width": null,
            "order": null,
            "_view_module_version": "1.2.0",
            "grid_template_areas": null,
            "object_position": null,
            "object_fit": null,
            "grid_auto_columns": null,
            "margin": null,
            "display": null,
            "left": null
          }
        },
        "d02bb14d90c646f5b1157be1e5fae9fa": {
          "model_module": "@jupyter-widgets/controls",
          "model_name": "FloatProgressModel",
          "state": {
            "_view_name": "ProgressView",
            "style": "IPY_MODEL_008391c6e7db4dad8bb7947c7ee6eecc",
            "_dom_classes": [],
            "description": "Downloading: 100%",
            "_model_name": "FloatProgressModel",
            "bar_style": "success",
            "max": 1621,
            "_view_module": "@jupyter-widgets/controls",
            "_model_module_version": "1.5.0",
            "value": 1621,
            "_view_count": null,
            "_view_module_version": "1.5.0",
            "orientation": "horizontal",
            "min": 0,
            "description_tooltip": null,
            "_model_module": "@jupyter-widgets/controls",
            "layout": "IPY_MODEL_cea68fc576ec46529c1296334c2b689d"
          }
        },
        "9a948dc723c24a16834083d0ffcdb2c8": {
          "model_module": "@jupyter-widgets/controls",
          "model_name": "HTMLModel",
          "state": {
            "_view_name": "HTMLView",
            "style": "IPY_MODEL_6144161c8d804e30a0cf71cd15026062",
            "_dom_classes": [],
            "description": "",
            "_model_name": "HTMLModel",
            "placeholder": "​",
            "_view_module": "@jupyter-widgets/controls",
            "_model_module_version": "1.5.0",
            "value": " 1.62k/1.62k [00:29&lt;00:00, 54.7B/s]",
            "_view_count": null,
            "_view_module_version": "1.5.0",
            "description_tooltip": null,
            "_model_module": "@jupyter-widgets/controls",
            "layout": "IPY_MODEL_2c11a27a49524bb3b76829d403563bdb"
          }
        },
        "008391c6e7db4dad8bb7947c7ee6eecc": {
          "model_module": "@jupyter-widgets/controls",
          "model_name": "ProgressStyleModel",
          "state": {
            "_view_name": "StyleView",
            "_model_name": "ProgressStyleModel",
            "description_width": "initial",
            "_view_module": "@jupyter-widgets/base",
            "_model_module_version": "1.5.0",
            "_view_count": null,
            "_view_module_version": "1.2.0",
            "bar_color": null,
            "_model_module": "@jupyter-widgets/controls"
          }
        },
        "cea68fc576ec46529c1296334c2b689d": {
          "model_module": "@jupyter-widgets/base",
          "model_name": "LayoutModel",
          "state": {
            "_view_name": "LayoutView",
            "grid_template_rows": null,
            "right": null,
            "justify_content": null,
            "_view_module": "@jupyter-widgets/base",
            "overflow": null,
            "_model_module_version": "1.2.0",
            "_view_count": null,
            "flex_flow": null,
            "width": null,
            "min_width": null,
            "border": null,
            "align_items": null,
            "bottom": null,
            "_model_module": "@jupyter-widgets/base",
            "top": null,
            "grid_column": null,
            "overflow_y": null,
            "overflow_x": null,
            "grid_auto_flow": null,
            "grid_area": null,
            "grid_template_columns": null,
            "flex": null,
            "_model_name": "LayoutModel",
            "justify_items": null,
            "grid_row": null,
            "max_height": null,
            "align_content": null,
            "visibility": null,
            "align_self": null,
            "height": null,
            "min_height": null,
            "padding": null,
            "grid_auto_rows": null,
            "grid_gap": null,
            "max_width": null,
            "order": null,
            "_view_module_version": "1.2.0",
            "grid_template_areas": null,
            "object_position": null,
            "object_fit": null,
            "grid_auto_columns": null,
            "margin": null,
            "display": null,
            "left": null
          }
        },
        "6144161c8d804e30a0cf71cd15026062": {
          "model_module": "@jupyter-widgets/controls",
          "model_name": "DescriptionStyleModel",
          "state": {
            "_view_name": "StyleView",
            "_model_name": "DescriptionStyleModel",
            "description_width": "",
            "_view_module": "@jupyter-widgets/base",
            "_model_module_version": "1.5.0",
            "_view_count": null,
            "_view_module_version": "1.2.0",
            "_model_module": "@jupyter-widgets/controls"
          }
        },
        "2c11a27a49524bb3b76829d403563bdb": {
          "model_module": "@jupyter-widgets/base",
          "model_name": "LayoutModel",
          "state": {
            "_view_name": "LayoutView",
            "grid_template_rows": null,
            "right": null,
            "justify_content": null,
            "_view_module": "@jupyter-widgets/base",
            "overflow": null,
            "_model_module_version": "1.2.0",
            "_view_count": null,
            "flex_flow": null,
            "width": null,
            "min_width": null,
            "border": null,
            "align_items": null,
            "bottom": null,
            "_model_module": "@jupyter-widgets/base",
            "top": null,
            "grid_column": null,
            "overflow_y": null,
            "overflow_x": null,
            "grid_auto_flow": null,
            "grid_area": null,
            "grid_template_columns": null,
            "flex": null,
            "_model_name": "LayoutModel",
            "justify_items": null,
            "grid_row": null,
            "max_height": null,
            "align_content": null,
            "visibility": null,
            "align_self": null,
            "height": null,
            "min_height": null,
            "padding": null,
            "grid_auto_rows": null,
            "grid_gap": null,
            "max_width": null,
            "order": null,
            "_view_module_version": "1.2.0",
            "grid_template_areas": null,
            "object_position": null,
            "object_fit": null,
            "grid_auto_columns": null,
            "margin": null,
            "display": null,
            "left": null
          }
        },
        "1219e3f34e4b4c3c9e0cf54f02098aaa": {
          "model_module": "@jupyter-widgets/controls",
          "model_name": "HBoxModel",
          "state": {
            "_view_name": "HBoxView",
            "_dom_classes": [],
            "_model_name": "HBoxModel",
            "_view_module": "@jupyter-widgets/controls",
            "_model_module_version": "1.5.0",
            "_view_count": null,
            "_view_module_version": "1.5.0",
            "box_style": "",
            "layout": "IPY_MODEL_1ad4f25a5f8f46a7bad8b89fb28d0a26",
            "_model_module": "@jupyter-widgets/controls",
            "children": [
              "IPY_MODEL_db7c69ee0bcf4054bbbb2b7db2eca3ab",
              "IPY_MODEL_04099ba638b24a5fbcfa541a03c72c0b"
            ]
          }
        },
        "1ad4f25a5f8f46a7bad8b89fb28d0a26": {
          "model_module": "@jupyter-widgets/base",
          "model_name": "LayoutModel",
          "state": {
            "_view_name": "LayoutView",
            "grid_template_rows": null,
            "right": null,
            "justify_content": null,
            "_view_module": "@jupyter-widgets/base",
            "overflow": null,
            "_model_module_version": "1.2.0",
            "_view_count": null,
            "flex_flow": null,
            "width": null,
            "min_width": null,
            "border": null,
            "align_items": null,
            "bottom": null,
            "_model_module": "@jupyter-widgets/base",
            "top": null,
            "grid_column": null,
            "overflow_y": null,
            "overflow_x": null,
            "grid_auto_flow": null,
            "grid_area": null,
            "grid_template_columns": null,
            "flex": null,
            "_model_name": "LayoutModel",
            "justify_items": null,
            "grid_row": null,
            "max_height": null,
            "align_content": null,
            "visibility": null,
            "align_self": null,
            "height": null,
            "min_height": null,
            "padding": null,
            "grid_auto_rows": null,
            "grid_gap": null,
            "max_width": null,
            "order": null,
            "_view_module_version": "1.2.0",
            "grid_template_areas": null,
            "object_position": null,
            "object_fit": null,
            "grid_auto_columns": null,
            "margin": null,
            "display": null,
            "left": null
          }
        },
        "db7c69ee0bcf4054bbbb2b7db2eca3ab": {
          "model_module": "@jupyter-widgets/controls",
          "model_name": "FloatProgressModel",
          "state": {
            "_view_name": "ProgressView",
            "style": "IPY_MODEL_d5b278d69df44cd6b9d2fed0be285206",
            "_dom_classes": [],
            "description": "Downloading: 100%",
            "_model_name": "FloatProgressModel",
            "bar_style": "success",
            "max": 1222317369,
            "_view_module": "@jupyter-widgets/controls",
            "_model_module_version": "1.5.0",
            "value": 1222317369,
            "_view_count": null,
            "_view_module_version": "1.5.0",
            "orientation": "horizontal",
            "min": 0,
            "description_tooltip": null,
            "_model_module": "@jupyter-widgets/controls",
            "layout": "IPY_MODEL_696675f448b14ac487c050d7f63b2e4e"
          }
        },
        "04099ba638b24a5fbcfa541a03c72c0b": {
          "model_module": "@jupyter-widgets/controls",
          "model_name": "HTMLModel",
          "state": {
            "_view_name": "HTMLView",
            "style": "IPY_MODEL_5f7f8c32ccd249d590d48291640d7061",
            "_dom_classes": [],
            "description": "",
            "_model_name": "HTMLModel",
            "placeholder": "​",
            "_view_module": "@jupyter-widgets/controls",
            "_model_module_version": "1.5.0",
            "value": " 1.22G/1.22G [00:24&lt;00:00, 49.4MB/s]",
            "_view_count": null,
            "_view_module_version": "1.5.0",
            "description_tooltip": null,
            "_model_module": "@jupyter-widgets/controls",
            "layout": "IPY_MODEL_d147ae09ef7e4fbf9f837a437ba365d4"
          }
        },
        "d5b278d69df44cd6b9d2fed0be285206": {
          "model_module": "@jupyter-widgets/controls",
          "model_name": "ProgressStyleModel",
          "state": {
            "_view_name": "StyleView",
            "_model_name": "ProgressStyleModel",
            "description_width": "initial",
            "_view_module": "@jupyter-widgets/base",
            "_model_module_version": "1.5.0",
            "_view_count": null,
            "_view_module_version": "1.2.0",
            "bar_color": null,
            "_model_module": "@jupyter-widgets/controls"
          }
        },
        "696675f448b14ac487c050d7f63b2e4e": {
          "model_module": "@jupyter-widgets/base",
          "model_name": "LayoutModel",
          "state": {
            "_view_name": "LayoutView",
            "grid_template_rows": null,
            "right": null,
            "justify_content": null,
            "_view_module": "@jupyter-widgets/base",
            "overflow": null,
            "_model_module_version": "1.2.0",
            "_view_count": null,
            "flex_flow": null,
            "width": null,
            "min_width": null,
            "border": null,
            "align_items": null,
            "bottom": null,
            "_model_module": "@jupyter-widgets/base",
            "top": null,
            "grid_column": null,
            "overflow_y": null,
            "overflow_x": null,
            "grid_auto_flow": null,
            "grid_area": null,
            "grid_template_columns": null,
            "flex": null,
            "_model_name": "LayoutModel",
            "justify_items": null,
            "grid_row": null,
            "max_height": null,
            "align_content": null,
            "visibility": null,
            "align_self": null,
            "height": null,
            "min_height": null,
            "padding": null,
            "grid_auto_rows": null,
            "grid_gap": null,
            "max_width": null,
            "order": null,
            "_view_module_version": "1.2.0",
            "grid_template_areas": null,
            "object_position": null,
            "object_fit": null,
            "grid_auto_columns": null,
            "margin": null,
            "display": null,
            "left": null
          }
        },
        "5f7f8c32ccd249d590d48291640d7061": {
          "model_module": "@jupyter-widgets/controls",
          "model_name": "DescriptionStyleModel",
          "state": {
            "_view_name": "StyleView",
            "_model_name": "DescriptionStyleModel",
            "description_width": "",
            "_view_module": "@jupyter-widgets/base",
            "_model_module_version": "1.5.0",
            "_view_count": null,
            "_view_module_version": "1.2.0",
            "_model_module": "@jupyter-widgets/controls"
          }
        },
        "d147ae09ef7e4fbf9f837a437ba365d4": {
          "model_module": "@jupyter-widgets/base",
          "model_name": "LayoutModel",
          "state": {
            "_view_name": "LayoutView",
            "grid_template_rows": null,
            "right": null,
            "justify_content": null,
            "_view_module": "@jupyter-widgets/base",
            "overflow": null,
            "_model_module_version": "1.2.0",
            "_view_count": null,
            "flex_flow": null,
            "width": null,
            "min_width": null,
            "border": null,
            "align_items": null,
            "bottom": null,
            "_model_module": "@jupyter-widgets/base",
            "top": null,
            "grid_column": null,
            "overflow_y": null,
            "overflow_x": null,
            "grid_auto_flow": null,
            "grid_area": null,
            "grid_template_columns": null,
            "flex": null,
            "_model_name": "LayoutModel",
            "justify_items": null,
            "grid_row": null,
            "max_height": null,
            "align_content": null,
            "visibility": null,
            "align_self": null,
            "height": null,
            "min_height": null,
            "padding": null,
            "grid_auto_rows": null,
            "grid_gap": null,
            "max_width": null,
            "order": null,
            "_view_module_version": "1.2.0",
            "grid_template_areas": null,
            "object_position": null,
            "object_fit": null,
            "grid_auto_columns": null,
            "margin": null,
            "display": null,
            "left": null
          }
        },
        "73c22026d1394a51afcfced2e150c698": {
          "model_module": "@jupyter-widgets/controls",
          "model_name": "HBoxModel",
          "state": {
            "_view_name": "HBoxView",
            "_dom_classes": [],
            "_model_name": "HBoxModel",
            "_view_module": "@jupyter-widgets/controls",
            "_model_module_version": "1.5.0",
            "_view_count": null,
            "_view_module_version": "1.5.0",
            "box_style": "",
            "layout": "IPY_MODEL_e221baf98b2348a68be273bced69f5b4",
            "_model_module": "@jupyter-widgets/controls",
            "children": [
              "IPY_MODEL_55efc44381be4f28af9b2fbb22192647",
              "IPY_MODEL_eda687bf007f48298e013842d6bef70b"
            ]
          }
        },
        "e221baf98b2348a68be273bced69f5b4": {
          "model_module": "@jupyter-widgets/base",
          "model_name": "LayoutModel",
          "state": {
            "_view_name": "LayoutView",
            "grid_template_rows": null,
            "right": null,
            "justify_content": null,
            "_view_module": "@jupyter-widgets/base",
            "overflow": null,
            "_model_module_version": "1.2.0",
            "_view_count": null,
            "flex_flow": null,
            "width": null,
            "min_width": null,
            "border": null,
            "align_items": null,
            "bottom": null,
            "_model_module": "@jupyter-widgets/base",
            "top": null,
            "grid_column": null,
            "overflow_y": null,
            "overflow_x": null,
            "grid_auto_flow": null,
            "grid_area": null,
            "grid_template_columns": null,
            "flex": null,
            "_model_name": "LayoutModel",
            "justify_items": null,
            "grid_row": null,
            "max_height": null,
            "align_content": null,
            "visibility": null,
            "align_self": null,
            "height": null,
            "min_height": null,
            "padding": null,
            "grid_auto_rows": null,
            "grid_gap": null,
            "max_width": null,
            "order": null,
            "_view_module_version": "1.2.0",
            "grid_template_areas": null,
            "object_position": null,
            "object_fit": null,
            "grid_auto_columns": null,
            "margin": null,
            "display": null,
            "left": null
          }
        },
        "55efc44381be4f28af9b2fbb22192647": {
          "model_module": "@jupyter-widgets/controls",
          "model_name": "FloatProgressModel",
          "state": {
            "_view_name": "ProgressView",
            "style": "IPY_MODEL_3fe4a13fde6345b1bc104ff923b43fae",
            "_dom_classes": [],
            "description": "Downloading: 100%",
            "_model_name": "FloatProgressModel",
            "bar_style": "success",
            "max": 898822,
            "_view_module": "@jupyter-widgets/controls",
            "_model_module_version": "1.5.0",
            "value": 898822,
            "_view_count": null,
            "_view_module_version": "1.5.0",
            "orientation": "horizontal",
            "min": 0,
            "description_tooltip": null,
            "_model_module": "@jupyter-widgets/controls",
            "layout": "IPY_MODEL_2988400bc167431581f9c797d0665911"
          }
        },
        "eda687bf007f48298e013842d6bef70b": {
          "model_module": "@jupyter-widgets/controls",
          "model_name": "HTMLModel",
          "state": {
            "_view_name": "HTMLView",
            "style": "IPY_MODEL_57b80eef0bae4fd9b1ba89907bb6c42c",
            "_dom_classes": [],
            "description": "",
            "_model_name": "HTMLModel",
            "placeholder": "​",
            "_view_module": "@jupyter-widgets/controls",
            "_model_module_version": "1.5.0",
            "value": " 899k/899k [00:00&lt;00:00, 1.58MB/s]",
            "_view_count": null,
            "_view_module_version": "1.5.0",
            "description_tooltip": null,
            "_model_module": "@jupyter-widgets/controls",
            "layout": "IPY_MODEL_28869ec19d3746fc91c00568e44c996b"
          }
        },
        "3fe4a13fde6345b1bc104ff923b43fae": {
          "model_module": "@jupyter-widgets/controls",
          "model_name": "ProgressStyleModel",
          "state": {
            "_view_name": "StyleView",
            "_model_name": "ProgressStyleModel",
            "description_width": "initial",
            "_view_module": "@jupyter-widgets/base",
            "_model_module_version": "1.5.0",
            "_view_count": null,
            "_view_module_version": "1.2.0",
            "bar_color": null,
            "_model_module": "@jupyter-widgets/controls"
          }
        },
        "2988400bc167431581f9c797d0665911": {
          "model_module": "@jupyter-widgets/base",
          "model_name": "LayoutModel",
          "state": {
            "_view_name": "LayoutView",
            "grid_template_rows": null,
            "right": null,
            "justify_content": null,
            "_view_module": "@jupyter-widgets/base",
            "overflow": null,
            "_model_module_version": "1.2.0",
            "_view_count": null,
            "flex_flow": null,
            "width": null,
            "min_width": null,
            "border": null,
            "align_items": null,
            "bottom": null,
            "_model_module": "@jupyter-widgets/base",
            "top": null,
            "grid_column": null,
            "overflow_y": null,
            "overflow_x": null,
            "grid_auto_flow": null,
            "grid_area": null,
            "grid_template_columns": null,
            "flex": null,
            "_model_name": "LayoutModel",
            "justify_items": null,
            "grid_row": null,
            "max_height": null,
            "align_content": null,
            "visibility": null,
            "align_self": null,
            "height": null,
            "min_height": null,
            "padding": null,
            "grid_auto_rows": null,
            "grid_gap": null,
            "max_width": null,
            "order": null,
            "_view_module_version": "1.2.0",
            "grid_template_areas": null,
            "object_position": null,
            "object_fit": null,
            "grid_auto_columns": null,
            "margin": null,
            "display": null,
            "left": null
          }
        },
        "57b80eef0bae4fd9b1ba89907bb6c42c": {
          "model_module": "@jupyter-widgets/controls",
          "model_name": "DescriptionStyleModel",
          "state": {
            "_view_name": "StyleView",
            "_model_name": "DescriptionStyleModel",
            "description_width": "",
            "_view_module": "@jupyter-widgets/base",
            "_model_module_version": "1.5.0",
            "_view_count": null,
            "_view_module_version": "1.2.0",
            "_model_module": "@jupyter-widgets/controls"
          }
        },
        "28869ec19d3746fc91c00568e44c996b": {
          "model_module": "@jupyter-widgets/base",
          "model_name": "LayoutModel",
          "state": {
            "_view_name": "LayoutView",
            "grid_template_rows": null,
            "right": null,
            "justify_content": null,
            "_view_module": "@jupyter-widgets/base",
            "overflow": null,
            "_model_module_version": "1.2.0",
            "_view_count": null,
            "flex_flow": null,
            "width": null,
            "min_width": null,
            "border": null,
            "align_items": null,
            "bottom": null,
            "_model_module": "@jupyter-widgets/base",
            "top": null,
            "grid_column": null,
            "overflow_y": null,
            "overflow_x": null,
            "grid_auto_flow": null,
            "grid_area": null,
            "grid_template_columns": null,
            "flex": null,
            "_model_name": "LayoutModel",
            "justify_items": null,
            "grid_row": null,
            "max_height": null,
            "align_content": null,
            "visibility": null,
            "align_self": null,
            "height": null,
            "min_height": null,
            "padding": null,
            "grid_auto_rows": null,
            "grid_gap": null,
            "max_width": null,
            "order": null,
            "_view_module_version": "1.2.0",
            "grid_template_areas": null,
            "object_position": null,
            "object_fit": null,
            "grid_auto_columns": null,
            "margin": null,
            "display": null,
            "left": null
          }
        },
        "2617311161b04c50985b623d2ac7548e": {
          "model_module": "@jupyter-widgets/controls",
          "model_name": "HBoxModel",
          "state": {
            "_view_name": "HBoxView",
            "_dom_classes": [],
            "_model_name": "HBoxModel",
            "_view_module": "@jupyter-widgets/controls",
            "_model_module_version": "1.5.0",
            "_view_count": null,
            "_view_module_version": "1.5.0",
            "box_style": "",
            "layout": "IPY_MODEL_e78dcc5ceebb4186858bdc0019afd5b3",
            "_model_module": "@jupyter-widgets/controls",
            "children": [
              "IPY_MODEL_cd1c69c1063d4e14a60c008248b9a034",
              "IPY_MODEL_7966f51fdd93472da7a6a406694af2c5"
            ]
          }
        },
        "e78dcc5ceebb4186858bdc0019afd5b3": {
          "model_module": "@jupyter-widgets/base",
          "model_name": "LayoutModel",
          "state": {
            "_view_name": "LayoutView",
            "grid_template_rows": null,
            "right": null,
            "justify_content": null,
            "_view_module": "@jupyter-widgets/base",
            "overflow": null,
            "_model_module_version": "1.2.0",
            "_view_count": null,
            "flex_flow": null,
            "width": null,
            "min_width": null,
            "border": null,
            "align_items": null,
            "bottom": null,
            "_model_module": "@jupyter-widgets/base",
            "top": null,
            "grid_column": null,
            "overflow_y": null,
            "overflow_x": null,
            "grid_auto_flow": null,
            "grid_area": null,
            "grid_template_columns": null,
            "flex": null,
            "_model_name": "LayoutModel",
            "justify_items": null,
            "grid_row": null,
            "max_height": null,
            "align_content": null,
            "visibility": null,
            "align_self": null,
            "height": null,
            "min_height": null,
            "padding": null,
            "grid_auto_rows": null,
            "grid_gap": null,
            "max_width": null,
            "order": null,
            "_view_module_version": "1.2.0",
            "grid_template_areas": null,
            "object_position": null,
            "object_fit": null,
            "grid_auto_columns": null,
            "margin": null,
            "display": null,
            "left": null
          }
        },
        "cd1c69c1063d4e14a60c008248b9a034": {
          "model_module": "@jupyter-widgets/controls",
          "model_name": "FloatProgressModel",
          "state": {
            "_view_name": "ProgressView",
            "style": "IPY_MODEL_9b2e2e6e5e0f4e118c40fefeefe41448",
            "_dom_classes": [],
            "description": "Downloading: 100%",
            "_model_name": "FloatProgressModel",
            "bar_style": "success",
            "max": 456318,
            "_view_module": "@jupyter-widgets/controls",
            "_model_module_version": "1.5.0",
            "value": 456318,
            "_view_count": null,
            "_view_module_version": "1.5.0",
            "orientation": "horizontal",
            "min": 0,
            "description_tooltip": null,
            "_model_module": "@jupyter-widgets/controls",
            "layout": "IPY_MODEL_6fa94b0cf56e403fa560cd5922e5ca4f"
          }
        },
        "7966f51fdd93472da7a6a406694af2c5": {
          "model_module": "@jupyter-widgets/controls",
          "model_name": "HTMLModel",
          "state": {
            "_view_name": "HTMLView",
            "style": "IPY_MODEL_cedc271b15b340c0bc80cc5dc84bffcb",
            "_dom_classes": [],
            "description": "",
            "_model_name": "HTMLModel",
            "placeholder": "​",
            "_view_module": "@jupyter-widgets/controls",
            "_model_module_version": "1.5.0",
            "value": " 456k/456k [00:00&lt;00:00, 1.29MB/s]",
            "_view_count": null,
            "_view_module_version": "1.5.0",
            "description_tooltip": null,
            "_model_module": "@jupyter-widgets/controls",
            "layout": "IPY_MODEL_18e28f8bfa344996953bbe412a57c291"
          }
        },
        "9b2e2e6e5e0f4e118c40fefeefe41448": {
          "model_module": "@jupyter-widgets/controls",
          "model_name": "ProgressStyleModel",
          "state": {
            "_view_name": "StyleView",
            "_model_name": "ProgressStyleModel",
            "description_width": "initial",
            "_view_module": "@jupyter-widgets/base",
            "_model_module_version": "1.5.0",
            "_view_count": null,
            "_view_module_version": "1.2.0",
            "bar_color": null,
            "_model_module": "@jupyter-widgets/controls"
          }
        },
        "6fa94b0cf56e403fa560cd5922e5ca4f": {
          "model_module": "@jupyter-widgets/base",
          "model_name": "LayoutModel",
          "state": {
            "_view_name": "LayoutView",
            "grid_template_rows": null,
            "right": null,
            "justify_content": null,
            "_view_module": "@jupyter-widgets/base",
            "overflow": null,
            "_model_module_version": "1.2.0",
            "_view_count": null,
            "flex_flow": null,
            "width": null,
            "min_width": null,
            "border": null,
            "align_items": null,
            "bottom": null,
            "_model_module": "@jupyter-widgets/base",
            "top": null,
            "grid_column": null,
            "overflow_y": null,
            "overflow_x": null,
            "grid_auto_flow": null,
            "grid_area": null,
            "grid_template_columns": null,
            "flex": null,
            "_model_name": "LayoutModel",
            "justify_items": null,
            "grid_row": null,
            "max_height": null,
            "align_content": null,
            "visibility": null,
            "align_self": null,
            "height": null,
            "min_height": null,
            "padding": null,
            "grid_auto_rows": null,
            "grid_gap": null,
            "max_width": null,
            "order": null,
            "_view_module_version": "1.2.0",
            "grid_template_areas": null,
            "object_position": null,
            "object_fit": null,
            "grid_auto_columns": null,
            "margin": null,
            "display": null,
            "left": null
          }
        },
        "cedc271b15b340c0bc80cc5dc84bffcb": {
          "model_module": "@jupyter-widgets/controls",
          "model_name": "DescriptionStyleModel",
          "state": {
            "_view_name": "StyleView",
            "_model_name": "DescriptionStyleModel",
            "description_width": "",
            "_view_module": "@jupyter-widgets/base",
            "_model_module_version": "1.5.0",
            "_view_count": null,
            "_view_module_version": "1.2.0",
            "_model_module": "@jupyter-widgets/controls"
          }
        },
        "18e28f8bfa344996953bbe412a57c291": {
          "model_module": "@jupyter-widgets/base",
          "model_name": "LayoutModel",
          "state": {
            "_view_name": "LayoutView",
            "grid_template_rows": null,
            "right": null,
            "justify_content": null,
            "_view_module": "@jupyter-widgets/base",
            "overflow": null,
            "_model_module_version": "1.2.0",
            "_view_count": null,
            "flex_flow": null,
            "width": null,
            "min_width": null,
            "border": null,
            "align_items": null,
            "bottom": null,
            "_model_module": "@jupyter-widgets/base",
            "top": null,
            "grid_column": null,
            "overflow_y": null,
            "overflow_x": null,
            "grid_auto_flow": null,
            "grid_area": null,
            "grid_template_columns": null,
            "flex": null,
            "_model_name": "LayoutModel",
            "justify_items": null,
            "grid_row": null,
            "max_height": null,
            "align_content": null,
            "visibility": null,
            "align_self": null,
            "height": null,
            "min_height": null,
            "padding": null,
            "grid_auto_rows": null,
            "grid_gap": null,
            "max_width": null,
            "order": null,
            "_view_module_version": "1.2.0",
            "grid_template_areas": null,
            "object_position": null,
            "object_fit": null,
            "grid_auto_columns": null,
            "margin": null,
            "display": null,
            "left": null
          }
        },
        "17cf481247ec45e38a17b473c77c1573": {
          "model_module": "@jupyter-widgets/controls",
          "model_name": "HBoxModel",
          "state": {
            "_view_name": "HBoxView",
            "_dom_classes": [],
            "_model_name": "HBoxModel",
            "_view_module": "@jupyter-widgets/controls",
            "_model_module_version": "1.5.0",
            "_view_count": null,
            "_view_module_version": "1.5.0",
            "box_style": "",
            "layout": "IPY_MODEL_c92278d709334957bf5f3d461b09ee53",
            "_model_module": "@jupyter-widgets/controls",
            "children": [
              "IPY_MODEL_3e27ce0849b94fc0ac30607d857b24c1",
              "IPY_MODEL_358dfc430ef341d5b5eb6a9a0b65c04a"
            ]
          }
        },
        "c92278d709334957bf5f3d461b09ee53": {
          "model_module": "@jupyter-widgets/base",
          "model_name": "LayoutModel",
          "state": {
            "_view_name": "LayoutView",
            "grid_template_rows": null,
            "right": null,
            "justify_content": null,
            "_view_module": "@jupyter-widgets/base",
            "overflow": null,
            "_model_module_version": "1.2.0",
            "_view_count": null,
            "flex_flow": null,
            "width": null,
            "min_width": null,
            "border": null,
            "align_items": null,
            "bottom": null,
            "_model_module": "@jupyter-widgets/base",
            "top": null,
            "grid_column": null,
            "overflow_y": null,
            "overflow_x": null,
            "grid_auto_flow": null,
            "grid_area": null,
            "grid_template_columns": null,
            "flex": null,
            "_model_name": "LayoutModel",
            "justify_items": null,
            "grid_row": null,
            "max_height": null,
            "align_content": null,
            "visibility": null,
            "align_self": null,
            "height": null,
            "min_height": null,
            "padding": null,
            "grid_auto_rows": null,
            "grid_gap": null,
            "max_width": null,
            "order": null,
            "_view_module_version": "1.2.0",
            "grid_template_areas": null,
            "object_position": null,
            "object_fit": null,
            "grid_auto_columns": null,
            "margin": null,
            "display": null,
            "left": null
          }
        },
        "3e27ce0849b94fc0ac30607d857b24c1": {
          "model_module": "@jupyter-widgets/controls",
          "model_name": "FloatProgressModel",
          "state": {
            "_view_name": "ProgressView",
            "style": "IPY_MODEL_6a9e06a30f774db385e1843d27d1f28d",
            "_dom_classes": [],
            "description": "Downloading: 100%",
            "_model_name": "FloatProgressModel",
            "bar_style": "success",
            "max": 26,
            "_view_module": "@jupyter-widgets/controls",
            "_model_module_version": "1.5.0",
            "value": 26,
            "_view_count": null,
            "_view_module_version": "1.5.0",
            "orientation": "horizontal",
            "min": 0,
            "description_tooltip": null,
            "_model_module": "@jupyter-widgets/controls",
            "layout": "IPY_MODEL_809261a94c3345f6b21d5b54ffc245da"
          }
        },
        "358dfc430ef341d5b5eb6a9a0b65c04a": {
          "model_module": "@jupyter-widgets/controls",
          "model_name": "HTMLModel",
          "state": {
            "_view_name": "HTMLView",
            "style": "IPY_MODEL_2733b81ff4e4406cacdbe115d1c97237",
            "_dom_classes": [],
            "description": "",
            "_model_name": "HTMLModel",
            "placeholder": "​",
            "_view_module": "@jupyter-widgets/controls",
            "_model_module_version": "1.5.0",
            "value": " 26.0/26.0 [00:00&lt;00:00, 332B/s]",
            "_view_count": null,
            "_view_module_version": "1.5.0",
            "description_tooltip": null,
            "_model_module": "@jupyter-widgets/controls",
            "layout": "IPY_MODEL_4028970c04f847438c9c85297fea8514"
          }
        },
        "6a9e06a30f774db385e1843d27d1f28d": {
          "model_module": "@jupyter-widgets/controls",
          "model_name": "ProgressStyleModel",
          "state": {
            "_view_name": "StyleView",
            "_model_name": "ProgressStyleModel",
            "description_width": "initial",
            "_view_module": "@jupyter-widgets/base",
            "_model_module_version": "1.5.0",
            "_view_count": null,
            "_view_module_version": "1.2.0",
            "bar_color": null,
            "_model_module": "@jupyter-widgets/controls"
          }
        },
        "809261a94c3345f6b21d5b54ffc245da": {
          "model_module": "@jupyter-widgets/base",
          "model_name": "LayoutModel",
          "state": {
            "_view_name": "LayoutView",
            "grid_template_rows": null,
            "right": null,
            "justify_content": null,
            "_view_module": "@jupyter-widgets/base",
            "overflow": null,
            "_model_module_version": "1.2.0",
            "_view_count": null,
            "flex_flow": null,
            "width": null,
            "min_width": null,
            "border": null,
            "align_items": null,
            "bottom": null,
            "_model_module": "@jupyter-widgets/base",
            "top": null,
            "grid_column": null,
            "overflow_y": null,
            "overflow_x": null,
            "grid_auto_flow": null,
            "grid_area": null,
            "grid_template_columns": null,
            "flex": null,
            "_model_name": "LayoutModel",
            "justify_items": null,
            "grid_row": null,
            "max_height": null,
            "align_content": null,
            "visibility": null,
            "align_self": null,
            "height": null,
            "min_height": null,
            "padding": null,
            "grid_auto_rows": null,
            "grid_gap": null,
            "max_width": null,
            "order": null,
            "_view_module_version": "1.2.0",
            "grid_template_areas": null,
            "object_position": null,
            "object_fit": null,
            "grid_auto_columns": null,
            "margin": null,
            "display": null,
            "left": null
          }
        },
        "2733b81ff4e4406cacdbe115d1c97237": {
          "model_module": "@jupyter-widgets/controls",
          "model_name": "DescriptionStyleModel",
          "state": {
            "_view_name": "StyleView",
            "_model_name": "DescriptionStyleModel",
            "description_width": "",
            "_view_module": "@jupyter-widgets/base",
            "_model_module_version": "1.5.0",
            "_view_count": null,
            "_view_module_version": "1.2.0",
            "_model_module": "@jupyter-widgets/controls"
          }
        },
        "4028970c04f847438c9c85297fea8514": {
          "model_module": "@jupyter-widgets/base",
          "model_name": "LayoutModel",
          "state": {
            "_view_name": "LayoutView",
            "grid_template_rows": null,
            "right": null,
            "justify_content": null,
            "_view_module": "@jupyter-widgets/base",
            "overflow": null,
            "_model_module_version": "1.2.0",
            "_view_count": null,
            "flex_flow": null,
            "width": null,
            "min_width": null,
            "border": null,
            "align_items": null,
            "bottom": null,
            "_model_module": "@jupyter-widgets/base",
            "top": null,
            "grid_column": null,
            "overflow_y": null,
            "overflow_x": null,
            "grid_auto_flow": null,
            "grid_area": null,
            "grid_template_columns": null,
            "flex": null,
            "_model_name": "LayoutModel",
            "justify_items": null,
            "grid_row": null,
            "max_height": null,
            "align_content": null,
            "visibility": null,
            "align_self": null,
            "height": null,
            "min_height": null,
            "padding": null,
            "grid_auto_rows": null,
            "grid_gap": null,
            "max_width": null,
            "order": null,
            "_view_module_version": "1.2.0",
            "grid_template_areas": null,
            "object_position": null,
            "object_fit": null,
            "grid_auto_columns": null,
            "margin": null,
            "display": null,
            "left": null
          }
        }
      }
    }
  },
  "cells": [
    {
      "cell_type": "markdown",
      "metadata": {
        "id": "buZ-c4fi8gcC"
      },
      "source": [
        "# Generating Missing Meta Descriptions\n",
        "\n",
        "<table align=\"left\">\n",
        "  <td>\n",
        "  <a href=\"https://www.vertical-leap.uk/\">\n",
        "    <img width=130px src=\"https://www.vertical-leap.uk/wp-content/themes/vl/images/theme/vertical-leap-logo.png\" />\n",
        "    </a>\n",
        "    </td>\n",
        "    <td>\n",
        "      by \n",
        "      <a href=\"https://wordlift.io/blog/en/entity/andrea-volpini\">\n",
        "        Mithila Kotibhaskar\n",
        "      </a>\n",
        "      <br/>\n",
        "      <br/>\n",
        "      SEO Specialist\n",
        "      <br/>\n",
        "      <br/>\n",
        "      <i>Last updated: <b>January 3rd, 2020</b></i>\n",
        "  </td>\n",
        "</table>"
      ]
    },
    {
      "cell_type": "markdown",
      "metadata": {
        "id": "-eTmScmc9YgQ"
      },
      "source": [
        "## Importing and installing the libraries we need\n"
      ]
    },
    {
      "cell_type": "code",
      "metadata": {
        "id": "_OdlLmidEJ7T",
        "colab": {
          "base_uri": "https://localhost:8080/",
          "height": 1000
        },
        "outputId": "865fc07d-ea30-43a0-b19c-4cc8d3eda711"
      },
      "source": [
        "!pip install -U git+https://github.com/adbar/trafilatura.git\n",
        "\n",
        "%tensorflow_version 1.x\n",
        "!pip install spacy==2.1.3\n",
        "!pip install transformers\n",
        "#MK---------\n",
        "#!pip install bert-extractive-summarizer==0.2.*\n",
        "\n",
        "#MK added to resolve errors\n",
        "!pip install bert-extractive-summarizer\n",
        "\n",
        "#MK added to resolve errors\n",
        "!pip install neuralcoref\n",
        "\n",
        "#MK added to resolve errors\n",
        "!pip install awscli awsebcli --upgrade\n",
        "\n",
        "#MK added to resolve errors\n",
        "!pip install urllib3==1.25.10\n",
        "\n",
        "#MK added to resolve errors\n",
        "!pip install urllib3==1.21.1\n",
        "#MK added to resolve errors\n",
        "!pip install urllib3==1.24.1\n",
        "#MK added to resolve errors\n",
        "!pip install urllib3==1.25.4\n",
        "\n",
        "#MK\n",
        "#MK(i added this LOC) !pip install boto3 --upgrade\n",
        "\n",
        "#MK added to resolve errors\n",
        "!pip install botocore\n",
        "\n",
        "#MK added to resolve errors\n",
        "!pip install botocore==1.17\n",
        "\n",
        "\n",
        "from bs4 import BeautifulSoup\n",
        "\n",
        "import csv\n",
        "import os\n",
        "import requests, sys\n",
        "import pandas as pd\n",
        "import re\n",
        "import numpy as np\n",
        "import trafilatura\n",
        "\n"
      ],
      "execution_count": null,
      "outputs": [
        {
          "output_type": "stream",
          "text": [
            "Collecting git+https://github.com/adbar/trafilatura.git\n",
            "  Cloning https://github.com/adbar/trafilatura.git to /tmp/pip-req-build-x2scergw\n",
            "  Running command git clone -q https://github.com/adbar/trafilatura.git /tmp/pip-req-build-x2scergw\n",
            "Collecting courlan>=0.2.3\n",
            "  Downloading https://files.pythonhosted.org/packages/9c/70/5fb086e1c9a29344621f4989ba6be46fb487784f1fc0cb79476e2800e022/courlan-0.2.3-py3-none-any.whl\n",
            "Collecting htmldate>=0.7.2\n",
            "  Downloading https://files.pythonhosted.org/packages/dd/04/15e7b5fc0637406cef6cca77e9cd60973a86d00de7cc7017fdaebeb91db2/htmldate-0.7.2-py3-none-any.whl\n",
            "Collecting justext>=2.2.0\n",
            "\u001b[?25l  Downloading https://files.pythonhosted.org/packages/6c/5f/c7b909b4b864ebcacfac23ce2f6f01a50c53628787cc14b3c06f79464cab/jusText-2.2.0-py2.py3-none-any.whl (860kB)\n",
            "\u001b[K     |████████████████████████████████| 870kB 7.0MB/s \n",
            "\u001b[?25hCollecting readability-lxml>=0.8.1\n",
            "  Downloading https://files.pythonhosted.org/packages/39/a6/cfe22aaa19ac69b97d127043a76a5bbcb0ef24f3a0b22793c46608190caa/readability_lxml-0.8.1-py3-none-any.whl\n",
            "Collecting urllib3<2,>=1.25\n",
            "\u001b[?25l  Downloading https://files.pythonhosted.org/packages/f5/71/45d36a8df68f3ebb098d6861b2c017f3d094538c0fb98fa61d4dc43e69b9/urllib3-1.26.2-py2.py3-none-any.whl (136kB)\n",
            "\u001b[K     |████████████████████████████████| 143kB 15.6MB/s \n",
            "\u001b[?25hCollecting lxml>=4.6.2\n",
            "\u001b[?25l  Downloading https://files.pythonhosted.org/packages/bd/78/56a7c88a57d0d14945472535d0df9fb4bbad7d34ede658ec7961635c790e/lxml-4.6.2-cp36-cp36m-manylinux1_x86_64.whl (5.5MB)\n",
            "\u001b[K     |████████████████████████████████| 5.5MB 11.1MB/s \n",
            "\u001b[?25hRequirement already satisfied, skipping upgrade: chardet>=3.0.4 in /usr/local/lib/python3.6/dist-packages (from trafilatura==0.6.2) (3.0.4)\n",
            "Requirement already satisfied, skipping upgrade: requests in /usr/local/lib/python3.6/dist-packages (from courlan>=0.2.3->trafilatura==0.6.2) (2.23.0)\n",
            "Collecting tldextract\n",
            "\u001b[?25l  Downloading https://files.pythonhosted.org/packages/7e/62/b6acd3129c5615b9860e670df07fd55b76175b63e6b7f68282c7cad38e9e/tldextract-3.1.0-py2.py3-none-any.whl (87kB)\n",
            "\u001b[K     |████████████████████████████████| 92kB 8.6MB/s \n",
            "\u001b[?25hRequirement already satisfied, skipping upgrade: python-dateutil>=2.8.1 in /usr/local/lib/python3.6/dist-packages (from htmldate>=0.7.2->trafilatura==0.6.2) (2.8.1)\n",
            "Collecting cssselect\n",
            "  Downloading https://files.pythonhosted.org/packages/3b/d4/3b5c17f00cce85b9a1e6f91096e1cc8e8ede2e1be8e96b87ce1ed09e92c5/cssselect-1.1.0-py2.py3-none-any.whl\n",
            "Requirement already satisfied, skipping upgrade: idna<3,>=2.5 in /usr/local/lib/python3.6/dist-packages (from requests->courlan>=0.2.3->trafilatura==0.6.2) (2.10)\n",
            "Requirement already satisfied, skipping upgrade: certifi>=2017.4.17 in /usr/local/lib/python3.6/dist-packages (from requests->courlan>=0.2.3->trafilatura==0.6.2) (2020.12.5)\n",
            "Collecting requests-file>=1.4\n",
            "  Downloading https://files.pythonhosted.org/packages/77/86/cdb5e8eaed90796aa83a6d9f75cfbd37af553c47a291cd47bc410ef9bdb2/requests_file-1.5.1-py2.py3-none-any.whl\n",
            "Requirement already satisfied, skipping upgrade: filelock>=3.0.8 in /usr/local/lib/python3.6/dist-packages (from tldextract->courlan>=0.2.3->trafilatura==0.6.2) (3.0.12)\n",
            "Requirement already satisfied, skipping upgrade: six>=1.5 in /usr/local/lib/python3.6/dist-packages (from python-dateutil>=2.8.1->htmldate>=0.7.2->trafilatura==0.6.2) (1.15.0)\n",
            "Building wheels for collected packages: trafilatura\n",
            "  Building wheel for trafilatura (setup.py) ... \u001b[?25l\u001b[?25hdone\n",
            "  Created wheel for trafilatura: filename=trafilatura-0.6.2-cp36-none-any.whl size=166668 sha256=2dcac9d6828c29525a07d1d3c7ebf8d57a379d6f539a29c1948eccd377b7d643\n",
            "  Stored in directory: /tmp/pip-ephem-wheel-cache-0yc7nf1n/wheels/78/ed/6b/4e1987f9c618c11c418e0d7a59ec08310dd900c3c86cd79ceb\n",
            "Successfully built trafilatura\n",
            "\u001b[31mERROR: requests 2.23.0 has requirement urllib3!=1.25.0,!=1.25.1,<1.26,>=1.21.1, but you'll have urllib3 1.26.2 which is incompatible.\u001b[0m\n",
            "\u001b[31mERROR: datascience 0.10.6 has requirement folium==0.2.1, but you'll have folium 0.8.3 which is incompatible.\u001b[0m\n",
            "Installing collected packages: requests-file, tldextract, courlan, lxml, htmldate, justext, cssselect, readability-lxml, urllib3, trafilatura\n",
            "  Found existing installation: lxml 4.2.6\n",
            "    Uninstalling lxml-4.2.6:\n",
            "      Successfully uninstalled lxml-4.2.6\n",
            "  Found existing installation: urllib3 1.24.3\n",
            "    Uninstalling urllib3-1.24.3:\n",
            "      Successfully uninstalled urllib3-1.24.3\n",
            "Successfully installed courlan-0.2.3 cssselect-1.1.0 htmldate-0.7.2 justext-2.2.0 lxml-4.6.2 readability-lxml-0.8.1 requests-file-1.5.1 tldextract-3.1.0 trafilatura-0.6.2 urllib3-1.26.2\n"
          ],
          "name": "stdout"
        },
        {
          "output_type": "stream",
          "text": [
            "/usr/local/lib/python3.6/dist-packages/requests/__init__.py:91: RequestsDependencyWarning: urllib3 (1.26.2) or chardet (3.0.4) doesn't match a supported version!\n",
            "  RequestsDependencyWarning)\n"
          ],
          "name": "stderr"
        },
        {
          "output_type": "stream",
          "text": [
            "TensorFlow 1.x selected.\n",
            "Collecting spacy==2.1.3\n",
            "\u001b[?25l  Downloading https://files.pythonhosted.org/packages/52/da/3a1c54694c2d2f40df82f38a19ae14c6eb24a5a1a0dae87205ebea7a84d8/spacy-2.1.3-cp36-cp36m-manylinux1_x86_64.whl (27.7MB)\n",
            "\u001b[K     |████████████████████████████████| 27.7MB 115kB/s \n",
            "\u001b[?25hCollecting preshed<2.1.0,>=2.0.1\n",
            "\u001b[?25l  Downloading https://files.pythonhosted.org/packages/20/93/f222fb957764a283203525ef20e62008675fd0a14ffff8cc1b1490147c63/preshed-2.0.1-cp36-cp36m-manylinux1_x86_64.whl (83kB)\n",
            "\u001b[K     |████████████████████████████████| 92kB 11.0MB/s \n",
            "\u001b[?25hRequirement already satisfied: srsly<1.1.0,>=0.0.5 in /usr/local/lib/python3.6/dist-packages (from spacy==2.1.3) (1.0.5)\n",
            "Collecting thinc<7.1.0,>=7.0.2\n",
            "\u001b[?25l  Downloading https://files.pythonhosted.org/packages/18/a5/9ace20422e7bb1bdcad31832ea85c52a09900cd4a7ce711246bfb92206ba/thinc-7.0.8-cp36-cp36m-manylinux1_x86_64.whl (2.1MB)\n",
            "\u001b[K     |████████████████████████████████| 2.1MB 51.3MB/s \n",
            "\u001b[?25hCollecting plac<1.0.0,>=0.9.6\n",
            "  Downloading https://files.pythonhosted.org/packages/9e/9b/62c60d2f5bc135d2aa1d8c8a86aaf84edb719a59c7f11a4316259e61a298/plac-0.9.6-py2.py3-none-any.whl\n",
            "Requirement already satisfied: cymem<2.1.0,>=2.0.2 in /usr/local/lib/python3.6/dist-packages (from spacy==2.1.3) (2.0.5)\n",
            "Requirement already satisfied: jsonschema<3.0.0,>=2.6.0 in /usr/local/lib/python3.6/dist-packages (from spacy==2.1.3) (2.6.0)\n",
            "Requirement already satisfied: numpy>=1.15.0 in /usr/local/lib/python3.6/dist-packages (from spacy==2.1.3) (1.19.4)\n",
            "Requirement already satisfied: requests<3.0.0,>=2.13.0 in /usr/local/lib/python3.6/dist-packages (from spacy==2.1.3) (2.23.0)\n",
            "Collecting blis<0.3.0,>=0.2.2\n",
            "\u001b[?25l  Downloading https://files.pythonhosted.org/packages/34/46/b1d0bb71d308e820ed30316c5f0a017cb5ef5f4324bcbc7da3cf9d3b075c/blis-0.2.4-cp36-cp36m-manylinux1_x86_64.whl (3.2MB)\n",
            "\u001b[K     |████████████████████████████████| 3.2MB 45.1MB/s \n",
            "\u001b[?25hRequirement already satisfied: wasabi<1.1.0,>=0.2.0 in /usr/local/lib/python3.6/dist-packages (from spacy==2.1.3) (0.8.0)\n",
            "Requirement already satisfied: murmurhash<1.1.0,>=0.28.0 in /usr/local/lib/python3.6/dist-packages (from spacy==2.1.3) (1.0.5)\n",
            "Requirement already satisfied: tqdm<5.0.0,>=4.10.0 in /usr/local/lib/python3.6/dist-packages (from thinc<7.1.0,>=7.0.2->spacy==2.1.3) (4.41.1)\n",
            "Collecting urllib3!=1.25.0,!=1.25.1,<1.26,>=1.21.1\n",
            "\u001b[?25l  Downloading https://files.pythonhosted.org/packages/56/aa/4ef5aa67a9a62505db124a5cb5262332d1d4153462eb8fd89c9fa41e5d92/urllib3-1.25.11-py2.py3-none-any.whl (127kB)\n",
            "\u001b[K     |████████████████████████████████| 133kB 44.5MB/s \n",
            "\u001b[?25hRequirement already satisfied: chardet<4,>=3.0.2 in /usr/local/lib/python3.6/dist-packages (from requests<3.0.0,>=2.13.0->spacy==2.1.3) (3.0.4)\n",
            "Requirement already satisfied: certifi>=2017.4.17 in /usr/local/lib/python3.6/dist-packages (from requests<3.0.0,>=2.13.0->spacy==2.1.3) (2020.12.5)\n",
            "Requirement already satisfied: idna<3,>=2.5 in /usr/local/lib/python3.6/dist-packages (from requests<3.0.0,>=2.13.0->spacy==2.1.3) (2.10)\n",
            "\u001b[31mERROR: en-core-web-sm 2.2.5 has requirement spacy>=2.2.2, but you'll have spacy 2.1.3 which is incompatible.\u001b[0m\n",
            "\u001b[31mERROR: datascience 0.10.6 has requirement folium==0.2.1, but you'll have folium 0.8.3 which is incompatible.\u001b[0m\n",
            "Installing collected packages: preshed, plac, blis, thinc, spacy, urllib3\n",
            "  Found existing installation: preshed 3.0.5\n",
            "    Uninstalling preshed-3.0.5:\n",
            "      Successfully uninstalled preshed-3.0.5\n",
            "  Found existing installation: plac 1.1.3\n",
            "    Uninstalling plac-1.1.3:\n",
            "      Successfully uninstalled plac-1.1.3\n",
            "  Found existing installation: blis 0.4.1\n",
            "    Uninstalling blis-0.4.1:\n",
            "      Successfully uninstalled blis-0.4.1\n",
            "  Found existing installation: thinc 7.4.0\n",
            "    Uninstalling thinc-7.4.0:\n",
            "      Successfully uninstalled thinc-7.4.0\n",
            "  Found existing installation: spacy 2.2.4\n",
            "    Uninstalling spacy-2.2.4:\n",
            "      Successfully uninstalled spacy-2.2.4\n",
            "  Found existing installation: urllib3 1.26.2\n",
            "    Uninstalling urllib3-1.26.2:\n",
            "      Successfully uninstalled urllib3-1.26.2\n",
            "Successfully installed blis-0.2.4 plac-0.9.6 preshed-2.0.1 spacy-2.1.3 thinc-7.0.8 urllib3-1.25.11\n"
          ],
          "name": "stdout"
        },
        {
          "output_type": "display_data",
          "data": {
            "application/vnd.colab-display-data+json": {
              "pip_warning": {
                "packages": [
                  "urllib3"
                ]
              }
            }
          },
          "metadata": {
            "tags": []
          }
        },
        {
          "output_type": "stream",
          "text": [
            "Collecting transformers\n",
            "\u001b[?25l  Downloading https://files.pythonhosted.org/packages/50/0c/7d5950fcd80b029be0a8891727ba21e0cd27692c407c51261c3c921f6da3/transformers-4.1.1-py3-none-any.whl (1.5MB)\n",
            "\u001b[K     |████████████████████████████████| 1.5MB 5.8MB/s \n",
            "\u001b[?25hRequirement already satisfied: filelock in /usr/local/lib/python3.6/dist-packages (from transformers) (3.0.12)\n",
            "Requirement already satisfied: dataclasses; python_version < \"3.7\" in /usr/local/lib/python3.6/dist-packages (from transformers) (0.8)\n",
            "Collecting sacremoses\n",
            "\u001b[?25l  Downloading https://files.pythonhosted.org/packages/7d/34/09d19aff26edcc8eb2a01bed8e98f13a1537005d31e95233fd48216eed10/sacremoses-0.0.43.tar.gz (883kB)\n",
            "\u001b[K     |████████████████████████████████| 890kB 37.6MB/s \n",
            "\u001b[?25hRequirement already satisfied: requests in /usr/local/lib/python3.6/dist-packages (from transformers) (2.23.0)\n",
            "Requirement already satisfied: packaging in /usr/local/lib/python3.6/dist-packages (from transformers) (20.8)\n",
            "Requirement already satisfied: regex!=2019.12.17 in /usr/local/lib/python3.6/dist-packages (from transformers) (2019.12.20)\n",
            "Collecting tokenizers==0.9.4\n",
            "\u001b[?25l  Downloading https://files.pythonhosted.org/packages/0f/1c/e789a8b12e28be5bc1ce2156cf87cb522b379be9cadc7ad8091a4cc107c4/tokenizers-0.9.4-cp36-cp36m-manylinux2010_x86_64.whl (2.9MB)\n",
            "\u001b[K     |████████████████████████████████| 2.9MB 43.0MB/s \n",
            "\u001b[?25hRequirement already satisfied: tqdm>=4.27 in /usr/local/lib/python3.6/dist-packages (from transformers) (4.41.1)\n",
            "Requirement already satisfied: numpy in /usr/local/lib/python3.6/dist-packages (from transformers) (1.19.4)\n",
            "Requirement already satisfied: six in /usr/local/lib/python3.6/dist-packages (from sacremoses->transformers) (1.15.0)\n",
            "Requirement already satisfied: click in /usr/local/lib/python3.6/dist-packages (from sacremoses->transformers) (7.1.2)\n",
            "Requirement already satisfied: joblib in /usr/local/lib/python3.6/dist-packages (from sacremoses->transformers) (1.0.0)\n",
            "Requirement already satisfied: urllib3!=1.25.0,!=1.25.1,<1.26,>=1.21.1 in /usr/local/lib/python3.6/dist-packages (from requests->transformers) (1.25.11)\n",
            "Requirement already satisfied: idna<3,>=2.5 in /usr/local/lib/python3.6/dist-packages (from requests->transformers) (2.10)\n",
            "Requirement already satisfied: chardet<4,>=3.0.2 in /usr/local/lib/python3.6/dist-packages (from requests->transformers) (3.0.4)\n",
            "Requirement already satisfied: certifi>=2017.4.17 in /usr/local/lib/python3.6/dist-packages (from requests->transformers) (2020.12.5)\n",
            "Requirement already satisfied: pyparsing>=2.0.2 in /usr/local/lib/python3.6/dist-packages (from packaging->transformers) (2.4.7)\n",
            "Building wheels for collected packages: sacremoses\n",
            "  Building wheel for sacremoses (setup.py) ... \u001b[?25l\u001b[?25hdone\n",
            "  Created wheel for sacremoses: filename=sacremoses-0.0.43-cp36-none-any.whl size=893261 sha256=792dd51fd82cd195f161e50c267d8e4c77ee192c498cd2f744944c9a899569ee\n",
            "  Stored in directory: /root/.cache/pip/wheels/29/3c/fd/7ce5c3f0666dab31a50123635e6fb5e19ceb42ce38d4e58f45\n",
            "Successfully built sacremoses\n",
            "Installing collected packages: sacremoses, tokenizers, transformers\n",
            "Successfully installed sacremoses-0.0.43 tokenizers-0.9.4 transformers-4.1.1\n",
            "Collecting bert-extractive-summarizer\n",
            "  Downloading https://files.pythonhosted.org/packages/29/8a/811fe2bcfb40464b17161e6e507bf00f59eefebe8f7f16b7a8d93aaed74d/bert_extractive_summarizer-0.5.2-py3-none-any.whl\n",
            "Requirement already satisfied: scikit-learn in /usr/local/lib/python3.6/dist-packages (from bert-extractive-summarizer) (0.22.2.post1)\n",
            "Requirement already satisfied: spacy in /usr/local/lib/python3.6/dist-packages (from bert-extractive-summarizer) (2.1.3)\n",
            "Requirement already satisfied: transformers in /usr/local/lib/python3.6/dist-packages (from bert-extractive-summarizer) (4.1.1)\n",
            "Requirement already satisfied: joblib>=0.11 in /usr/local/lib/python3.6/dist-packages (from scikit-learn->bert-extractive-summarizer) (1.0.0)\n",
            "Requirement already satisfied: scipy>=0.17.0 in /usr/local/lib/python3.6/dist-packages (from scikit-learn->bert-extractive-summarizer) (1.4.1)\n",
            "Requirement already satisfied: numpy>=1.11.0 in /usr/local/lib/python3.6/dist-packages (from scikit-learn->bert-extractive-summarizer) (1.19.4)\n",
            "Requirement already satisfied: murmurhash<1.1.0,>=0.28.0 in /usr/local/lib/python3.6/dist-packages (from spacy->bert-extractive-summarizer) (1.0.5)\n",
            "Requirement already satisfied: jsonschema<3.0.0,>=2.6.0 in /usr/local/lib/python3.6/dist-packages (from spacy->bert-extractive-summarizer) (2.6.0)\n",
            "Requirement already satisfied: wasabi<1.1.0,>=0.2.0 in /usr/local/lib/python3.6/dist-packages (from spacy->bert-extractive-summarizer) (0.8.0)\n",
            "Requirement already satisfied: preshed<2.1.0,>=2.0.1 in /usr/local/lib/python3.6/dist-packages (from spacy->bert-extractive-summarizer) (2.0.1)\n",
            "Requirement already satisfied: blis<0.3.0,>=0.2.2 in /usr/local/lib/python3.6/dist-packages (from spacy->bert-extractive-summarizer) (0.2.4)\n",
            "Requirement already satisfied: thinc<7.1.0,>=7.0.2 in /usr/local/lib/python3.6/dist-packages (from spacy->bert-extractive-summarizer) (7.0.8)\n",
            "Requirement already satisfied: requests<3.0.0,>=2.13.0 in /usr/local/lib/python3.6/dist-packages (from spacy->bert-extractive-summarizer) (2.23.0)\n",
            "Requirement already satisfied: srsly<1.1.0,>=0.0.5 in /usr/local/lib/python3.6/dist-packages (from spacy->bert-extractive-summarizer) (1.0.5)\n",
            "Requirement already satisfied: cymem<2.1.0,>=2.0.2 in /usr/local/lib/python3.6/dist-packages (from spacy->bert-extractive-summarizer) (2.0.5)\n",
            "Requirement already satisfied: plac<1.0.0,>=0.9.6 in /usr/local/lib/python3.6/dist-packages (from spacy->bert-extractive-summarizer) (0.9.6)\n",
            "Requirement already satisfied: tokenizers==0.9.4 in /usr/local/lib/python3.6/dist-packages (from transformers->bert-extractive-summarizer) (0.9.4)\n",
            "Requirement already satisfied: dataclasses; python_version < \"3.7\" in /usr/local/lib/python3.6/dist-packages (from transformers->bert-extractive-summarizer) (0.8)\n",
            "Requirement already satisfied: filelock in /usr/local/lib/python3.6/dist-packages (from transformers->bert-extractive-summarizer) (3.0.12)\n",
            "Requirement already satisfied: regex!=2019.12.17 in /usr/local/lib/python3.6/dist-packages (from transformers->bert-extractive-summarizer) (2019.12.20)\n",
            "Requirement already satisfied: sacremoses in /usr/local/lib/python3.6/dist-packages (from transformers->bert-extractive-summarizer) (0.0.43)\n",
            "Requirement already satisfied: packaging in /usr/local/lib/python3.6/dist-packages (from transformers->bert-extractive-summarizer) (20.8)\n",
            "Requirement already satisfied: tqdm>=4.27 in /usr/local/lib/python3.6/dist-packages (from transformers->bert-extractive-summarizer) (4.41.1)\n",
            "Requirement already satisfied: idna<3,>=2.5 in /usr/local/lib/python3.6/dist-packages (from requests<3.0.0,>=2.13.0->spacy->bert-extractive-summarizer) (2.10)\n",
            "Requirement already satisfied: urllib3!=1.25.0,!=1.25.1,<1.26,>=1.21.1 in /usr/local/lib/python3.6/dist-packages (from requests<3.0.0,>=2.13.0->spacy->bert-extractive-summarizer) (1.25.11)\n",
            "Requirement already satisfied: certifi>=2017.4.17 in /usr/local/lib/python3.6/dist-packages (from requests<3.0.0,>=2.13.0->spacy->bert-extractive-summarizer) (2020.12.5)\n",
            "Requirement already satisfied: chardet<4,>=3.0.2 in /usr/local/lib/python3.6/dist-packages (from requests<3.0.0,>=2.13.0->spacy->bert-extractive-summarizer) (3.0.4)\n",
            "Requirement already satisfied: six in /usr/local/lib/python3.6/dist-packages (from sacremoses->transformers->bert-extractive-summarizer) (1.15.0)\n",
            "Requirement already satisfied: click in /usr/local/lib/python3.6/dist-packages (from sacremoses->transformers->bert-extractive-summarizer) (7.1.2)\n",
            "Requirement already satisfied: pyparsing>=2.0.2 in /usr/local/lib/python3.6/dist-packages (from packaging->transformers->bert-extractive-summarizer) (2.4.7)\n",
            "Installing collected packages: bert-extractive-summarizer\n",
            "Successfully installed bert-extractive-summarizer-0.5.2\n",
            "Collecting neuralcoref\n",
            "\u001b[?25l  Downloading https://files.pythonhosted.org/packages/ea/24/0ec7845a5b73b637aa691ff4d1b9b48f3a0f3369f4002a59ffd7a7462fdb/neuralcoref-4.0-cp36-cp36m-manylinux1_x86_64.whl (287kB)\n",
            "\u001b[K     |████████████████████████████████| 296kB 4.2MB/s \n",
            "\u001b[?25hRequirement already satisfied: requests<3.0.0,>=2.13.0 in /usr/local/lib/python3.6/dist-packages (from neuralcoref) (2.23.0)\n",
            "Requirement already satisfied: spacy>=2.1.0 in /usr/local/lib/python3.6/dist-packages (from neuralcoref) (2.1.3)\n",
            "Requirement already satisfied: numpy>=1.15.0 in /usr/local/lib/python3.6/dist-packages (from neuralcoref) (1.19.4)\n",
            "Collecting boto3\n",
            "\u001b[?25l  Downloading https://files.pythonhosted.org/packages/55/c6/912cc2cfd1b4051621552fc5961c25e2f517a090d179a38f62d5cdaf5d37/boto3-1.16.43-py2.py3-none-any.whl (130kB)\n",
            "\u001b[K     |████████████████████████████████| 133kB 28.4MB/s \n",
            "\u001b[?25hRequirement already satisfied: idna<3,>=2.5 in /usr/local/lib/python3.6/dist-packages (from requests<3.0.0,>=2.13.0->neuralcoref) (2.10)\n",
            "Requirement already satisfied: certifi>=2017.4.17 in /usr/local/lib/python3.6/dist-packages (from requests<3.0.0,>=2.13.0->neuralcoref) (2020.12.5)\n",
            "Requirement already satisfied: chardet<4,>=3.0.2 in /usr/local/lib/python3.6/dist-packages (from requests<3.0.0,>=2.13.0->neuralcoref) (3.0.4)\n",
            "Requirement already satisfied: urllib3!=1.25.0,!=1.25.1,<1.26,>=1.21.1 in /usr/local/lib/python3.6/dist-packages (from requests<3.0.0,>=2.13.0->neuralcoref) (1.25.11)\n",
            "Requirement already satisfied: plac<1.0.0,>=0.9.6 in /usr/local/lib/python3.6/dist-packages (from spacy>=2.1.0->neuralcoref) (0.9.6)\n",
            "Requirement already satisfied: wasabi<1.1.0,>=0.2.0 in /usr/local/lib/python3.6/dist-packages (from spacy>=2.1.0->neuralcoref) (0.8.0)\n",
            "Requirement already satisfied: murmurhash<1.1.0,>=0.28.0 in /usr/local/lib/python3.6/dist-packages (from spacy>=2.1.0->neuralcoref) (1.0.5)\n",
            "Requirement already satisfied: cymem<2.1.0,>=2.0.2 in /usr/local/lib/python3.6/dist-packages (from spacy>=2.1.0->neuralcoref) (2.0.5)\n",
            "Requirement already satisfied: srsly<1.1.0,>=0.0.5 in /usr/local/lib/python3.6/dist-packages (from spacy>=2.1.0->neuralcoref) (1.0.5)\n",
            "Requirement already satisfied: jsonschema<3.0.0,>=2.6.0 in /usr/local/lib/python3.6/dist-packages (from spacy>=2.1.0->neuralcoref) (2.6.0)\n",
            "Requirement already satisfied: preshed<2.1.0,>=2.0.1 in /usr/local/lib/python3.6/dist-packages (from spacy>=2.1.0->neuralcoref) (2.0.1)\n",
            "Requirement already satisfied: blis<0.3.0,>=0.2.2 in /usr/local/lib/python3.6/dist-packages (from spacy>=2.1.0->neuralcoref) (0.2.4)\n",
            "Requirement already satisfied: thinc<7.1.0,>=7.0.2 in /usr/local/lib/python3.6/dist-packages (from spacy>=2.1.0->neuralcoref) (7.0.8)\n",
            "Collecting jmespath<1.0.0,>=0.7.1\n",
            "  Downloading https://files.pythonhosted.org/packages/07/cb/5f001272b6faeb23c1c9e0acc04d48eaaf5c862c17709d20e3469c6e0139/jmespath-0.10.0-py2.py3-none-any.whl\n",
            "Collecting s3transfer<0.4.0,>=0.3.0\n",
            "\u001b[?25l  Downloading https://files.pythonhosted.org/packages/69/79/e6afb3d8b0b4e96cefbdc690f741d7dd24547ff1f94240c997a26fa908d3/s3transfer-0.3.3-py2.py3-none-any.whl (69kB)\n",
            "\u001b[K     |████████████████████████████████| 71kB 9.2MB/s \n",
            "\u001b[?25hCollecting botocore<1.20.0,>=1.19.43\n",
            "\u001b[?25l  Downloading https://files.pythonhosted.org/packages/ef/6c/9f6e6a14f53b21b6f1670ccd789082015911458823914b7dabca333ae033/botocore-1.19.43-py2.py3-none-any.whl (7.2MB)\n",
            "\u001b[K     |████████████████████████████████| 7.2MB 23.8MB/s \n",
            "\u001b[?25hRequirement already satisfied: tqdm<5.0.0,>=4.10.0 in /usr/local/lib/python3.6/dist-packages (from thinc<7.1.0,>=7.0.2->spacy>=2.1.0->neuralcoref) (4.41.1)\n",
            "Requirement already satisfied: python-dateutil<3.0.0,>=2.1 in /usr/local/lib/python3.6/dist-packages (from botocore<1.20.0,>=1.19.43->boto3->neuralcoref) (2.8.1)\n",
            "Requirement already satisfied: six>=1.5 in /usr/local/lib/python3.6/dist-packages (from python-dateutil<3.0.0,>=2.1->botocore<1.20.0,>=1.19.43->boto3->neuralcoref) (1.15.0)\n",
            "Installing collected packages: jmespath, botocore, s3transfer, boto3, neuralcoref\n",
            "Successfully installed boto3-1.16.43 botocore-1.19.43 jmespath-0.10.0 neuralcoref-4.0 s3transfer-0.3.3\n",
            "Collecting awscli\n",
            "\u001b[?25l  Downloading https://files.pythonhosted.org/packages/14/60/762beda98cc5aaa7bd82edcbbbe8af9e78172356f514701778ebeb9abed4/awscli-1.18.203-py2.py3-none-any.whl (3.5MB)\n",
            "\u001b[K     |████████████████████████████████| 3.5MB 5.9MB/s \n",
            "\u001b[?25hCollecting awsebcli\n",
            "\u001b[?25l  Downloading https://files.pythonhosted.org/packages/84/0e/0df616d87aaa363454dbf342f7f3996bf036c1a4d5dbf64e8f046fd89142/awsebcli-3.19.2.tar.gz (249kB)\n",
            "\u001b[K     |████████████████████████████████| 256kB 42.7MB/s \n",
            "\u001b[?25hCollecting rsa<=4.5.0,>=3.1.2; python_version != \"3.4\"\n",
            "  Downloading https://files.pythonhosted.org/packages/26/f8/8127fdda0294f044121d20aac7785feb810e159098447967a6103dedfb96/rsa-4.5-py2.py3-none-any.whl\n",
            "Collecting docutils<0.16,>=0.10\n",
            "\u001b[?25l  Downloading https://files.pythonhosted.org/packages/22/cd/a6aa959dca619918ccb55023b4cb151949c64d4d5d55b3f4ffd7eee0c6e8/docutils-0.15.2-py3-none-any.whl (547kB)\n",
            "\u001b[K     |████████████████████████████████| 552kB 40.8MB/s \n",
            "\u001b[?25hRequirement already satisfied, skipping upgrade: botocore==1.19.43 in /usr/local/lib/python3.6/dist-packages (from awscli) (1.19.43)\n",
            "Collecting colorama<0.4.4,>=0.2.5; python_version != \"3.4\"\n",
            "  Downloading https://files.pythonhosted.org/packages/c9/dc/45cdef1b4d119eb96316b3117e6d5708a08029992b2fee2c143c7a0a5cc5/colorama-0.4.3-py2.py3-none-any.whl\n",
            "Requirement already satisfied, skipping upgrade: PyYAML<5.4,>=3.10; python_version != \"3.4\" in /usr/local/lib/python3.6/dist-packages (from awscli) (3.13)\n",
            "Requirement already satisfied, skipping upgrade: s3transfer<0.4.0,>=0.3.0 in /usr/local/lib/python3.6/dist-packages (from awscli) (0.3.3)\n",
            "Collecting cement==2.8.2\n",
            "\u001b[?25l  Downloading https://files.pythonhosted.org/packages/70/60/608f0b8975f4ee7deaaaa7052210d095e0b96e7cd3becdeede9bd13674a1/cement-2.8.2.tar.gz (165kB)\n",
            "\u001b[K     |████████████████████████████████| 174kB 44.0MB/s \n",
            "\u001b[?25hRequirement already satisfied, skipping upgrade: future<0.17.0,>=0.16.0 in /usr/local/lib/python3.6/dist-packages (from awsebcli) (0.16.0)\n",
            "Collecting pathspec==0.5.9\n",
            "  Downloading https://files.pythonhosted.org/packages/84/2a/bfee636b1e2f7d6e30dd74f49201ccfa5c3cf322d44929ecc6c137c486c5/pathspec-0.5.9.tar.gz\n",
            "Requirement already satisfied, skipping upgrade: python-dateutil<3.0.0,>=2.1 in /usr/local/lib/python3.6/dist-packages (from awsebcli) (2.8.1)\n",
            "Requirement already satisfied, skipping upgrade: requests<=2.24,>=2.20.1 in /usr/local/lib/python3.6/dist-packages (from awsebcli) (2.23.0)\n",
            "Requirement already satisfied, skipping upgrade: setuptools>=20.0 in /usr/local/lib/python3.6/dist-packages (from awsebcli) (51.0.0)\n",
            "Collecting semantic_version==2.5.0\n",
            "  Downloading https://files.pythonhosted.org/packages/bd/8d/49a968bafda84c2f1c39a9ed429e37cb75cc03896e8d6b873001e6456fad/semantic_version-2.5.0-py3-none-any.whl\n",
            "Requirement already satisfied, skipping upgrade: six<=1.15.0,>=1.12.0 in /usr/local/lib/python3.6/dist-packages (from awsebcli) (1.15.0)\n",
            "Requirement already satisfied, skipping upgrade: termcolor==1.1.0 in /usr/local/lib/python3.6/dist-packages (from awsebcli) (1.1.0)\n",
            "Collecting wcwidth<0.2.0,>=0.1.7\n",
            "  Downloading https://files.pythonhosted.org/packages/f6/d5/1ecdac957e3ea12c1b319fcdee8b6917ffaff8b4644d673c4d72d2f20b49/wcwidth-0.1.9-py2.py3-none-any.whl\n",
            "Requirement already satisfied, skipping upgrade: urllib3<1.26,>=1.25.4 in /usr/local/lib/python3.6/dist-packages (from awsebcli) (1.25.11)\n",
            "Collecting docker-compose<1.26.0,>=1.25.2\n",
            "\u001b[?25l  Downloading https://files.pythonhosted.org/packages/ec/35/1dfbb8e6b2ce5d290622a49cae0a7f3cf09cdc4341380a600aee00530881/docker_compose-1.25.5-py2.py3-none-any.whl (139kB)\n",
            "\u001b[K     |████████████████████████████████| 143kB 47.9MB/s \n",
            "\u001b[?25hCollecting blessed>=1.9.5\n",
            "\u001b[?25l  Downloading https://files.pythonhosted.org/packages/88/34/61e670039aefca011b5e6fb1a73de18165ef6d016ac16df423b20d719e64/blessed-1.17.12-py2.py3-none-any.whl (76kB)\n",
            "\u001b[K     |████████████████████████████████| 81kB 8.9MB/s \n",
            "\u001b[?25hRequirement already satisfied, skipping upgrade: pyasn1>=0.1.3 in /usr/local/lib/python3.6/dist-packages (from rsa<=4.5.0,>=3.1.2; python_version != \"3.4\"->awscli) (0.4.8)\n",
            "Requirement already satisfied, skipping upgrade: jmespath<1.0.0,>=0.7.1 in /usr/local/lib/python3.6/dist-packages (from botocore==1.19.43->awscli) (0.10.0)\n",
            "Requirement already satisfied, skipping upgrade: chardet<4,>=3.0.2 in /usr/local/lib/python3.6/dist-packages (from requests<=2.24,>=2.20.1->awsebcli) (3.0.4)\n",
            "Requirement already satisfied, skipping upgrade: idna<3,>=2.5 in /usr/local/lib/python3.6/dist-packages (from requests<=2.24,>=2.20.1->awsebcli) (2.10)\n",
            "Requirement already satisfied, skipping upgrade: certifi>=2017.4.17 in /usr/local/lib/python3.6/dist-packages (from requests<=2.24,>=2.20.1->awsebcli) (2020.12.5)\n",
            "Collecting cached-property<2,>=1.2.0\n",
            "  Downloading https://files.pythonhosted.org/packages/48/19/f2090f7dad41e225c7f2326e4cfe6fff49e57dedb5b53636c9551f86b069/cached_property-1.5.2-py2.py3-none-any.whl\n",
            "Requirement already satisfied, skipping upgrade: docopt<1,>=0.6.1 in /usr/local/lib/python3.6/dist-packages (from docker-compose<1.26.0,>=1.25.2->awsebcli) (0.6.2)\n",
            "Collecting dockerpty<1,>=0.4.1\n",
            "  Downloading https://files.pythonhosted.org/packages/8d/ee/e9ecce4c32204a6738e0a5d5883d3413794d7498fe8b06f44becc028d3ba/dockerpty-0.4.1.tar.gz\n",
            "Collecting texttable<2,>=0.9.0\n",
            "  Downloading https://files.pythonhosted.org/packages/06/f5/46201c428aebe0eecfa83df66bf3e6caa29659dbac5a56ddfd83cae0d4a4/texttable-1.6.3-py2.py3-none-any.whl\n",
            "Collecting websocket-client<1,>=0.32.0\n",
            "\u001b[?25l  Downloading https://files.pythonhosted.org/packages/4c/5f/f61b420143ed1c8dc69f9eaec5ff1ac36109d52c80de49d66e0c36c3dfdf/websocket_client-0.57.0-py2.py3-none-any.whl (200kB)\n",
            "\u001b[K     |████████████████████████████████| 204kB 43.1MB/s \n",
            "\u001b[?25hCollecting docker[ssh]<5,>=3.7.0\n",
            "\u001b[?25l  Downloading https://files.pythonhosted.org/packages/9f/a5/eec74d8d1016e6c2042ba31ca6fba3bba520e27d8a061e82bccd36bd64ef/docker-4.4.1-py2.py3-none-any.whl (146kB)\n",
            "\u001b[K     |████████████████████████████████| 153kB 38.5MB/s \n",
            "\u001b[?25hRequirement already satisfied, skipping upgrade: jsonschema<4,>=2.5.1 in /usr/local/lib/python3.6/dist-packages (from docker-compose<1.26.0,>=1.25.2->awsebcli) (2.6.0)\n",
            "Collecting paramiko>=2.4.2; extra == \"ssh\"\n",
            "\u001b[?25l  Downloading https://files.pythonhosted.org/packages/95/19/124e9287b43e6ff3ebb9cdea3e5e8e88475a873c05ccdf8b7e20d2c4201e/paramiko-2.7.2-py2.py3-none-any.whl (206kB)\n",
            "\u001b[K     |████████████████████████████████| 215kB 47.7MB/s \n",
            "\u001b[?25hCollecting pynacl>=1.0.1\n",
            "\u001b[?25l  Downloading https://files.pythonhosted.org/packages/9d/57/2f5e6226a674b2bcb6db531e8b383079b678df5b10cdaa610d6cf20d77ba/PyNaCl-1.4.0-cp35-abi3-manylinux1_x86_64.whl (961kB)\n",
            "\u001b[K     |████████████████████████████████| 962kB 42.7MB/s \n",
            "\u001b[?25hCollecting bcrypt>=3.1.3\n",
            "\u001b[?25l  Downloading https://files.pythonhosted.org/packages/26/70/6d218afbe4c73538053c1016dd631e8f25fffc10cd01f5c272d7acf3c03d/bcrypt-3.2.0-cp36-abi3-manylinux2010_x86_64.whl (63kB)\n",
            "\u001b[K     |████████████████████████████████| 71kB 8.4MB/s \n",
            "\u001b[?25hCollecting cryptography>=2.5\n",
            "\u001b[?25l  Downloading https://files.pythonhosted.org/packages/c9/de/7054df0620b5411ba45480f0261e1fb66a53f3db31b28e3aa52c026e72d9/cryptography-3.3.1-cp36-abi3-manylinux2010_x86_64.whl (2.6MB)\n",
            "\u001b[K     |████████████████████████████████| 2.6MB 37.0MB/s \n",
            "\u001b[?25hRequirement already satisfied, skipping upgrade: cffi>=1.4.1 in /usr/local/lib/python3.6/dist-packages (from pynacl>=1.0.1->paramiko>=2.4.2; extra == \"ssh\"->docker[ssh]<5,>=3.7.0->docker-compose<1.26.0,>=1.25.2->awsebcli) (1.14.4)\n",
            "Requirement already satisfied, skipping upgrade: pycparser in /usr/local/lib/python3.6/dist-packages (from cffi>=1.4.1->pynacl>=1.0.1->paramiko>=2.4.2; extra == \"ssh\"->docker[ssh]<5,>=3.7.0->docker-compose<1.26.0,>=1.25.2->awsebcli) (2.20)\n",
            "Building wheels for collected packages: awsebcli, cement, pathspec, dockerpty\n",
            "  Building wheel for awsebcli (setup.py) ... \u001b[?25l\u001b[?25hdone\n",
            "  Created wheel for awsebcli: filename=awsebcli-3.19.2-cp36-none-any.whl size=357646 sha256=87da0bb6e0aa18ff6e5ad797146e493cf738c16b9903185c5ad57a505fe6f2c5\n",
            "  Stored in directory: /root/.cache/pip/wheels/8f/29/e0/d6459b08d74d25f89da2f8dbe54a76bd578c4ef900b9f5d9aa\n",
            "  Building wheel for cement (setup.py) ... \u001b[?25l\u001b[?25hdone\n",
            "  Created wheel for cement: filename=cement-2.8.2-cp36-none-any.whl size=99714 sha256=76b8ae9eb61967ac29bb16a283872b951919ad24eae031ba353ebc69a8f41061\n",
            "  Stored in directory: /root/.cache/pip/wheels/35/9e/02/0af61a0ed625ea3decf29b8602fc0cbecc38943f19e076bb2e\n",
            "  Building wheel for pathspec (setup.py) ... \u001b[?25l\u001b[?25hdone\n",
            "  Created wheel for pathspec: filename=pathspec-0.5.9-cp36-none-any.whl size=26358 sha256=1ede8a0d2342f99361ffd524b1301a999aa2e3418510294c551a5ca19e1e09a4\n",
            "  Stored in directory: /root/.cache/pip/wheels/45/cb/7e/ce6e6062c69446e39e328170524ca8213498bc66a74c6a210b\n",
            "  Building wheel for dockerpty (setup.py) ... \u001b[?25l\u001b[?25hdone\n",
            "  Created wheel for dockerpty: filename=dockerpty-0.4.1-cp36-none-any.whl size=16605 sha256=31c93ef2fc5ac50e8ff9300986d1f8b46f08c064015503b0784528e6e9a1de5e\n",
            "  Stored in directory: /root/.cache/pip/wheels/e5/1e/86/bd0a97a0907c6c654af654d5875d1d4383dd1f575f77cee4aa\n",
            "Successfully built awsebcli cement pathspec dockerpty\n",
            "\u001b[31mERROR: datascience 0.10.6 has requirement folium==0.2.1, but you'll have folium 0.8.3 which is incompatible.\u001b[0m\n",
            "\u001b[31mERROR: awsebcli 3.19.2 has requirement PyYAML<5.4,>=5.3.1, but you'll have pyyaml 3.13 which is incompatible.\u001b[0m\n",
            "Installing collected packages: rsa, docutils, colorama, awscli, cement, pathspec, semantic-version, wcwidth, cached-property, dockerpty, texttable, websocket-client, pynacl, bcrypt, cryptography, paramiko, docker, docker-compose, blessed, awsebcli\n",
            "  Found existing installation: rsa 4.6\n",
            "    Uninstalling rsa-4.6:\n",
            "      Successfully uninstalled rsa-4.6\n",
            "  Found existing installation: docutils 0.16\n",
            "    Uninstalling docutils-0.16:\n",
            "      Successfully uninstalled docutils-0.16\n",
            "  Found existing installation: semantic-version 2.8.4\n",
            "    Uninstalling semantic-version-2.8.4:\n",
            "      Successfully uninstalled semantic-version-2.8.4\n",
            "  Found existing installation: wcwidth 0.2.5\n",
            "    Uninstalling wcwidth-0.2.5:\n",
            "      Successfully uninstalled wcwidth-0.2.5\n",
            "Successfully installed awscli-1.18.203 awsebcli-3.19.2 bcrypt-3.2.0 blessed-1.17.12 cached-property-1.5.2 cement-2.8.2 colorama-0.4.3 cryptography-3.3.1 docker-4.4.1 docker-compose-1.25.5 dockerpty-0.4.1 docutils-0.15.2 paramiko-2.7.2 pathspec-0.5.9 pynacl-1.4.0 rsa-4.5 semantic-version-2.5.0 texttable-1.6.3 wcwidth-0.1.9 websocket-client-0.57.0\n"
          ],
          "name": "stdout"
        },
        {
          "output_type": "display_data",
          "data": {
            "application/vnd.colab-display-data+json": {
              "pip_warning": {
                "packages": [
                  "wcwidth"
                ]
              }
            }
          },
          "metadata": {
            "tags": []
          }
        },
        {
          "output_type": "stream",
          "text": [
            "Collecting urllib3==1.25.10\n",
            "\u001b[?25l  Downloading https://files.pythonhosted.org/packages/9f/f0/a391d1463ebb1b233795cabfc0ef38d3db4442339de68f847026199e69d7/urllib3-1.25.10-py2.py3-none-any.whl (127kB)\n",
            "\r\u001b[K     |██▋                             | 10kB 19.5MB/s eta 0:00:01\r\u001b[K     |█████▏                          | 20kB 9.3MB/s eta 0:00:01\r\u001b[K     |███████▊                        | 30kB 7.9MB/s eta 0:00:01\r\u001b[K     |██████████▎                     | 40kB 7.1MB/s eta 0:00:01\r\u001b[K     |████████████▉                   | 51kB 4.5MB/s eta 0:00:01\r\u001b[K     |███████████████▍                | 61kB 4.6MB/s eta 0:00:01\r\u001b[K     |██████████████████              | 71kB 5.0MB/s eta 0:00:01\r\u001b[K     |████████████████████▌           | 81kB 5.1MB/s eta 0:00:01\r\u001b[K     |███████████████████████         | 92kB 5.2MB/s eta 0:00:01\r\u001b[K     |█████████████████████████▊      | 102kB 4.4MB/s eta 0:00:01\r\u001b[K     |████████████████████████████▎   | 112kB 4.4MB/s eta 0:00:01\r\u001b[K     |██████████████████████████████▉ | 122kB 4.4MB/s eta 0:00:01\r\u001b[K     |████████████████████████████████| 133kB 4.4MB/s \n",
            "\u001b[31mERROR: datascience 0.10.6 has requirement folium==0.2.1, but you'll have folium 0.8.3 which is incompatible.\u001b[0m\n",
            "\u001b[31mERROR: awsebcli 3.19.2 has requirement PyYAML<5.4,>=5.3.1, but you'll have pyyaml 3.13 which is incompatible.\u001b[0m\n",
            "\u001b[?25hInstalling collected packages: urllib3\n",
            "  Found existing installation: urllib3 1.25.11\n",
            "    Uninstalling urllib3-1.25.11:\n",
            "      Successfully uninstalled urllib3-1.25.11\n",
            "Successfully installed urllib3-1.25.10\n"
          ],
          "name": "stdout"
        },
        {
          "output_type": "display_data",
          "data": {
            "application/vnd.colab-display-data+json": {
              "pip_warning": {
                "packages": [
                  "urllib3"
                ]
              }
            }
          },
          "metadata": {
            "tags": []
          }
        },
        {
          "output_type": "stream",
          "text": [
            "Collecting urllib3==1.21.1\n",
            "\u001b[?25l  Downloading https://files.pythonhosted.org/packages/24/53/f397db567de0aa0e81b211d81c13c41a779f14893e42189cf5bdb97611b2/urllib3-1.21.1-py2.py3-none-any.whl (131kB)\n",
            "\r\u001b[K     |██▌                             | 10kB 19.4MB/s eta 0:00:01\r\u001b[K     |█████                           | 20kB 15.4MB/s eta 0:00:01\r\u001b[K     |███████▌                        | 30kB 9.6MB/s eta 0:00:01\r\u001b[K     |██████████                      | 40kB 8.1MB/s eta 0:00:01\r\u001b[K     |████████████▍                   | 51kB 4.4MB/s eta 0:00:01\r\u001b[K     |███████████████                 | 61kB 4.9MB/s eta 0:00:01\r\u001b[K     |█████████████████▍              | 71kB 5.2MB/s eta 0:00:01\r\u001b[K     |████████████████████            | 81kB 5.4MB/s eta 0:00:01\r\u001b[K     |██████████████████████▍         | 92kB 5.6MB/s eta 0:00:01\r\u001b[K     |████████████████████████▉       | 102kB 4.3MB/s eta 0:00:01\r\u001b[K     |███████████████████████████▍    | 112kB 4.3MB/s eta 0:00:01\r\u001b[K     |█████████████████████████████▉  | 122kB 4.3MB/s eta 0:00:01\r\u001b[K     |████████████████████████████████| 133kB 4.3MB/s \n",
            "\u001b[31mERROR: trafilatura 0.6.2 has requirement urllib3<2,>=1.25, but you'll have urllib3 1.21.1 which is incompatible.\u001b[0m\n",
            "\u001b[31mERROR: datascience 0.10.6 has requirement folium==0.2.1, but you'll have folium 0.8.3 which is incompatible.\u001b[0m\n",
            "\u001b[31mERROR: botocore 1.19.43 has requirement urllib3<1.27,>=1.25.4; python_version != \"3.4\", but you'll have urllib3 1.21.1 which is incompatible.\u001b[0m\n",
            "\u001b[31mERROR: awsebcli 3.19.2 has requirement PyYAML<5.4,>=5.3.1, but you'll have pyyaml 3.13 which is incompatible.\u001b[0m\n",
            "\u001b[31mERROR: awsebcli 3.19.2 has requirement urllib3<1.26,>=1.25.4, but you'll have urllib3 1.21.1 which is incompatible.\u001b[0m\n",
            "\u001b[?25hInstalling collected packages: urllib3\n",
            "  Found existing installation: urllib3 1.25.10\n",
            "    Uninstalling urllib3-1.25.10:\n",
            "      Successfully uninstalled urllib3-1.25.10\n",
            "Successfully installed urllib3-1.21.1\n"
          ],
          "name": "stdout"
        },
        {
          "output_type": "display_data",
          "data": {
            "application/vnd.colab-display-data+json": {
              "pip_warning": {
                "packages": [
                  "urllib3"
                ]
              }
            }
          },
          "metadata": {
            "tags": []
          }
        },
        {
          "output_type": "stream",
          "text": [
            "Collecting urllib3==1.24.1\n",
            "\u001b[?25l  Downloading https://files.pythonhosted.org/packages/62/00/ee1d7de624db8ba7090d1226aebefab96a2c71cd5cfa7629d6ad3f61b79e/urllib3-1.24.1-py2.py3-none-any.whl (118kB)\n",
            "\r\u001b[K     |██▊                             | 10kB 22.2MB/s eta 0:00:01\r\u001b[K     |█████▌                          | 20kB 14.7MB/s eta 0:00:01\r\u001b[K     |████████▎                       | 30kB 9.9MB/s eta 0:00:01\r\u001b[K     |███████████                     | 40kB 8.3MB/s eta 0:00:01\r\u001b[K     |█████████████▉                  | 51kB 4.3MB/s eta 0:00:01\r\u001b[K     |████████████████▋               | 61kB 4.8MB/s eta 0:00:01\r\u001b[K     |███████████████████▍            | 71kB 5.1MB/s eta 0:00:01\r\u001b[K     |██████████████████████▏         | 81kB 5.3MB/s eta 0:00:01\r\u001b[K     |█████████████████████████       | 92kB 5.3MB/s eta 0:00:01\r\u001b[K     |███████████████████████████▊    | 102kB 5.8MB/s eta 0:00:01\r\u001b[K     |██████████████████████████████▌ | 112kB 5.8MB/s eta 0:00:01\r\u001b[K     |████████████████████████████████| 122kB 5.8MB/s \n",
            "\u001b[31mERROR: trafilatura 0.6.2 has requirement urllib3<2,>=1.25, but you'll have urllib3 1.24.1 which is incompatible.\u001b[0m\n",
            "\u001b[31mERROR: datascience 0.10.6 has requirement folium==0.2.1, but you'll have folium 0.8.3 which is incompatible.\u001b[0m\n",
            "\u001b[31mERROR: botocore 1.19.43 has requirement urllib3<1.27,>=1.25.4; python_version != \"3.4\", but you'll have urllib3 1.24.1 which is incompatible.\u001b[0m\n",
            "\u001b[31mERROR: awsebcli 3.19.2 has requirement PyYAML<5.4,>=5.3.1, but you'll have pyyaml 3.13 which is incompatible.\u001b[0m\n",
            "\u001b[31mERROR: awsebcli 3.19.2 has requirement urllib3<1.26,>=1.25.4, but you'll have urllib3 1.24.1 which is incompatible.\u001b[0m\n",
            "\u001b[?25hInstalling collected packages: urllib3\n",
            "  Found existing installation: urllib3 1.21.1\n",
            "    Uninstalling urllib3-1.21.1:\n",
            "      Successfully uninstalled urllib3-1.21.1\n",
            "Successfully installed urllib3-1.24.1\n"
          ],
          "name": "stdout"
        },
        {
          "output_type": "display_data",
          "data": {
            "application/vnd.colab-display-data+json": {
              "pip_warning": {
                "packages": [
                  "urllib3"
                ]
              }
            }
          },
          "metadata": {
            "tags": []
          }
        },
        {
          "output_type": "stream",
          "text": [
            "Collecting urllib3==1.25.4\n",
            "\u001b[?25l  Downloading https://files.pythonhosted.org/packages/91/0d/7777358f672a14b7ae0dfcd29f949f409f913e0578190d6bfa68eb55864b/urllib3-1.25.4-py2.py3-none-any.whl (125kB)\n",
            "\r\u001b[K     |██▋                             | 10kB 20.7MB/s eta 0:00:01\r\u001b[K     |█████▏                          | 20kB 16.5MB/s eta 0:00:01\r\u001b[K     |███████▉                        | 30kB 9.8MB/s eta 0:00:01\r\u001b[K     |██████████▍                     | 40kB 8.1MB/s eta 0:00:01\r\u001b[K     |█████████████                   | 51kB 4.3MB/s eta 0:00:01\r\u001b[K     |███████████████▋                | 61kB 4.8MB/s eta 0:00:01\r\u001b[K     |██████████████████▎             | 71kB 5.2MB/s eta 0:00:01\r\u001b[K     |████████████████████▉           | 81kB 5.3MB/s eta 0:00:01\r\u001b[K     |███████████████████████▌        | 92kB 5.6MB/s eta 0:00:01\r\u001b[K     |██████████████████████████      | 102kB 4.2MB/s eta 0:00:01\r\u001b[K     |████████████████████████████▊   | 112kB 4.2MB/s eta 0:00:01\r\u001b[K     |███████████████████████████████▎| 122kB 4.2MB/s eta 0:00:01\r\u001b[K     |████████████████████████████████| 133kB 4.2MB/s \n",
            "\u001b[31mERROR: datascience 0.10.6 has requirement folium==0.2.1, but you'll have folium 0.8.3 which is incompatible.\u001b[0m\n",
            "\u001b[31mERROR: awsebcli 3.19.2 has requirement PyYAML<5.4,>=5.3.1, but you'll have pyyaml 3.13 which is incompatible.\u001b[0m\n",
            "\u001b[?25hInstalling collected packages: urllib3\n",
            "  Found existing installation: urllib3 1.24.1\n",
            "    Uninstalling urllib3-1.24.1:\n",
            "      Successfully uninstalled urllib3-1.24.1\n",
            "Successfully installed urllib3-1.25.4\n"
          ],
          "name": "stdout"
        },
        {
          "output_type": "display_data",
          "data": {
            "application/vnd.colab-display-data+json": {
              "pip_warning": {
                "packages": [
                  "urllib3"
                ]
              }
            }
          },
          "metadata": {
            "tags": []
          }
        },
        {
          "output_type": "stream",
          "text": [
            "Requirement already satisfied: botocore in /usr/local/lib/python3.6/dist-packages (1.19.43)\n",
            "Requirement already satisfied: jmespath<1.0.0,>=0.7.1 in /usr/local/lib/python3.6/dist-packages (from botocore) (0.10.0)\n",
            "Requirement already satisfied: urllib3<1.27,>=1.25.4; python_version != \"3.4\" in /usr/local/lib/python3.6/dist-packages (from botocore) (1.25.4)\n",
            "Requirement already satisfied: python-dateutil<3.0.0,>=2.1 in /usr/local/lib/python3.6/dist-packages (from botocore) (2.8.1)\n",
            "Requirement already satisfied: six>=1.5 in /usr/local/lib/python3.6/dist-packages (from python-dateutil<3.0.0,>=2.1->botocore) (1.15.0)\n",
            "Collecting botocore==1.17\n",
            "\u001b[?25l  Downloading https://files.pythonhosted.org/packages/b8/bc/8a6e8b8f062da15deb79ef3ceb846b0654c0640addf491c7984c5a056416/botocore-1.17.0-py2.py3-none-any.whl (6.3MB)\n",
            "\u001b[K     |████████████████████████████████| 6.3MB 4.0MB/s \n",
            "\u001b[?25hRequirement already satisfied: urllib3<1.26,>=1.20; python_version != \"3.4\" in /usr/local/lib/python3.6/dist-packages (from botocore==1.17) (1.25.4)\n",
            "Requirement already satisfied: jmespath<1.0.0,>=0.7.1 in /usr/local/lib/python3.6/dist-packages (from botocore==1.17) (0.10.0)\n",
            "Requirement already satisfied: python-dateutil<3.0.0,>=2.1 in /usr/local/lib/python3.6/dist-packages (from botocore==1.17) (2.8.1)\n",
            "Requirement already satisfied: docutils<0.16,>=0.10 in /usr/local/lib/python3.6/dist-packages (from botocore==1.17) (0.15.2)\n",
            "Requirement already satisfied: six>=1.5 in /usr/local/lib/python3.6/dist-packages (from python-dateutil<3.0.0,>=2.1->botocore==1.17) (1.15.0)\n",
            "\u001b[31mERROR: boto3 1.16.43 has requirement botocore<1.20.0,>=1.19.43, but you'll have botocore 1.17.0 which is incompatible.\u001b[0m\n",
            "\u001b[31mERROR: awsebcli 3.19.2 has requirement botocore<1.20.0,>=1.19.0, but you'll have botocore 1.17.0 which is incompatible.\u001b[0m\n",
            "\u001b[31mERROR: awsebcli 3.19.2 has requirement PyYAML<5.4,>=5.3.1, but you'll have pyyaml 3.13 which is incompatible.\u001b[0m\n",
            "\u001b[31mERROR: awscli 1.18.203 has requirement botocore==1.19.43, but you'll have botocore 1.17.0 which is incompatible.\u001b[0m\n",
            "Installing collected packages: botocore\n",
            "  Found existing installation: botocore 1.19.43\n",
            "    Uninstalling botocore-1.19.43:\n",
            "      Successfully uninstalled botocore-1.19.43\n",
            "Successfully installed botocore-1.17.0\n"
          ],
          "name": "stdout"
        }
      ]
    },
    {
      "cell_type": "code",
      "metadata": {
        "id": "bt1YH1KNbvgr"
      },
      "source": [
        "#MK IMPORTNG PIPELINE\r\n",
        "from transformers import pipeline\r\n",
        "\r\n"
      ],
      "execution_count": null,
      "outputs": []
    },
    {
      "cell_type": "markdown",
      "metadata": {
        "id": "t41cZ9efGGo5"
      },
      "source": [
        "## Downloading crawl data from Google Sheet \n",
        "\n",
        "The script uses the _url` CSV file generated with **Screaming Frog Crawler** that provides the list of URLs and the information of where the Meta Description is missing.  \n",
        "\n",
        "The data has been imported into Google Sheet so that we can inspect it. Change the URL below after publishing your CSV:\n",
        "\n",
        "\n",
        "> 1. Open file from \"My Drive\" or \"Upload\"\n",
        "2. File -> Publish to the web -> \"Sheet name\" option and \"csv\" option\n"
      ]
    },
    {
      "cell_type": "code",
      "metadata": {
        "id": "6ntyfjL3H7-b"
      },
      "source": [
        "df = pd.read_csv('https://docs.google.com/spreadsheets/d/e/2PACX-1vQHEO3j6o59pCyfbXMEEi7zwTJGoNT-_RaXB8oL0Pg1wL1Y1dqFd5M4g_7ZMPMdIo0X8tuQCzeXuRsp/pub?gid=1712919487&single=true&output=csv', # Update the string here to change the file\n",
        "                 #usecols=[0,5,8,12,38,46],  \n",
        "                 usecols=[0,2,11],\n",
        "                 header=0,\n",
        "                 encoding=\"utf-8-sig\" )\n",
        "\n",
        "print(\"we have a total of:\", len(df), \" urls\")\n",
        "\n",
        "df.head()"
      ],
      "execution_count": null,
      "outputs": []
    },
    {
      "cell_type": "markdown",
      "metadata": {
        "id": "JBcyTfZ4tVJ8"
      },
      "source": [
        "### Using Screaming Frog"
      ]
    },
    {
      "cell_type": "code",
      "metadata": {
        "id": "JALL291GtZap",
        "colab": {
          "base_uri": "https://localhost:8080/"
        },
        "outputId": "39c82117-f35e-43f7-96f7-cce83a28101f"
      },
      "source": [
        "# Download the list of URLs from Google Docs (file generated with Screaming Frog SEO Spider) \n",
        "# Replace the following with a crawl from your favorite website that you have published on Google Drive\n",
        "\n",
        "!wget 'https://docs.google.com/spreadsheets/d/e/2PACX-1vRPJMu_aen9BTSuW0tDJsbA07ZJBzJHeF2uM8Ov-GKhrT1rb6k0Nup98qHg4p0RpZaTzVaLkhc1DDY0/pub?gid=951755148&single=true&output=csv'"
      ],
      "execution_count": null,
      "outputs": [
        {
          "output_type": "stream",
          "text": [
            "--2020-12-26 18:51:43--  https://docs.google.com/spreadsheets/d/e/2PACX-1vRPJMu_aen9BTSuW0tDJsbA07ZJBzJHeF2uM8Ov-GKhrT1rb6k0Nup98qHg4p0RpZaTzVaLkhc1DDY0/pub?gid=951755148&single=true&output=csv\n",
            "Resolving docs.google.com (docs.google.com)... 172.217.204.113, 172.217.204.100, 172.217.204.101, ...\n",
            "Connecting to docs.google.com (docs.google.com)|172.217.204.113|:443... connected.\n",
            "HTTP request sent, awaiting response... 307 Temporary Redirect\n",
            "Location: https://doc-0k-6k-sheets.googleusercontent.com/pub/l5l039s6ni5uumqbsj9o11lmdc/jlridu9u25en8um00rrrcp09qg/1609008700000/114833318317024563176/*/e@2PACX-1vRPJMu_aen9BTSuW0tDJsbA07ZJBzJHeF2uM8Ov-GKhrT1rb6k0Nup98qHg4p0RpZaTzVaLkhc1DDY0?gid=951755148&single=true&output=csv [following]\n",
            "Warning: wildcards not supported in HTTP.\n",
            "--2020-12-26 18:51:43--  https://doc-0k-6k-sheets.googleusercontent.com/pub/l5l039s6ni5uumqbsj9o11lmdc/jlridu9u25en8um00rrrcp09qg/1609008700000/114833318317024563176/*/e@2PACX-1vRPJMu_aen9BTSuW0tDJsbA07ZJBzJHeF2uM8Ov-GKhrT1rb6k0Nup98qHg4p0RpZaTzVaLkhc1DDY0?gid=951755148&single=true&output=csv\n",
            "Resolving doc-0k-6k-sheets.googleusercontent.com (doc-0k-6k-sheets.googleusercontent.com)... 74.125.141.132, 2607:f8b0:400c:c06::84\n",
            "Connecting to doc-0k-6k-sheets.googleusercontent.com (doc-0k-6k-sheets.googleusercontent.com)|74.125.141.132|:443... connected.\n",
            "HTTP request sent, awaiting response... 200 OK\n",
            "Length: unspecified [text/csv]\n",
            "Saving to: ‘pub?gid=951755148&single=true&output=csv’\n",
            "\n",
            "pub?gid=951755148&s     [ <=>                ]  13.07K  --.-KB/s    in 0s      \n",
            "\n",
            "2020-12-26 18:51:44 (94.3 MB/s) - ‘pub?gid=951755148&single=true&output=csv’ saved [13381]\n",
            "\n"
          ],
          "name": "stdout"
        }
      ]
    },
    {
      "cell_type": "markdown",
      "metadata": {
        "id": "bb2AppotwUQd"
      },
      "source": [
        "#### Creating a Pandas DataFrame from Screaming Frog data\n",
        "\n",
        "\n",
        "Following the file structure generated using the Screaming Frog's crawler, we will use the following columns:\n",
        "\n",
        "- *url* (`cols='0'` | `Address`), \n",
        "- *http status* (`cols='2'` | `Status Code`), \n",
        "- *meta description lenght* (`cols='11'` | `Meta Description 1 Length`),\n",
        "- *position* (`cols='48'` | `Position`),\n",
        "\n",
        "We will then use *http status* to focus our analysis only to urls responding with `HTTP 200`."
      ]
    },
    {
      "cell_type": "code",
      "metadata": {
        "id": "tyPnprLnxXCP",
        "colab": {
          "base_uri": "https://localhost:8080/",
          "height": 219
        },
        "outputId": "75b5d3b3-83a3-4307-83a1-a86f20491890"
      },
      "source": [
        "df = pd.read_csv('https://docs.google.com/spreadsheets/d/e/2PACX-1vRPJMu_aen9BTSuW0tDJsbA07ZJBzJHeF2uM8Ov-GKhrT1rb6k0Nup98qHg4p0RpZaTzVaLkhc1DDY0/pub?gid=951755148&single=true&output=csv', # Update the string here to change the file\n",
        "                 #usecols=[0,2,11,48],  \n",
        "                 usecols=[0,2,11],\n",
        "                 header=0,\n",
        "                 encoding=\"utf-8-sig\" ) \n",
        "\n",
        "print(\"we have a total of:\", len(df), \" urls\")\n",
        "\n",
        "df.head()"
      ],
      "execution_count": null,
      "outputs": [
        {
          "output_type": "stream",
          "text": [
            "we have a total of: 19  urls\n"
          ],
          "name": "stdout"
        },
        {
          "output_type": "execute_result",
          "data": {
            "text/html": [
              "<div>\n",
              "<style scoped>\n",
              "    .dataframe tbody tr th:only-of-type {\n",
              "        vertical-align: middle;\n",
              "    }\n",
              "\n",
              "    .dataframe tbody tr th {\n",
              "        vertical-align: top;\n",
              "    }\n",
              "\n",
              "    .dataframe thead th {\n",
              "        text-align: right;\n",
              "    }\n",
              "</style>\n",
              "<table border=\"1\" class=\"dataframe\">\n",
              "  <thead>\n",
              "    <tr style=\"text-align: right;\">\n",
              "      <th></th>\n",
              "      <th>Address</th>\n",
              "      <th>Status Code</th>\n",
              "      <th>Meta Description 1 Pixel Width</th>\n",
              "    </tr>\n",
              "  </thead>\n",
              "  <tbody>\n",
              "    <tr>\n",
              "      <th>0</th>\n",
              "      <td>https://www.thebrewery.co.uk/blog/will-on-wine...</td>\n",
              "      <td>200</td>\n",
              "      <td>0</td>\n",
              "    </tr>\n",
              "    <tr>\n",
              "      <th>1</th>\n",
              "      <td>https://www.thebrewery.co.uk/category/blog/pag...</td>\n",
              "      <td>200</td>\n",
              "      <td>0</td>\n",
              "    </tr>\n",
              "    <tr>\n",
              "      <th>2</th>\n",
              "      <td>https://www.thebrewery.co.uk/blog/londons-call...</td>\n",
              "      <td>200</td>\n",
              "      <td>0</td>\n",
              "    </tr>\n",
              "    <tr>\n",
              "      <th>3</th>\n",
              "      <td>https://www.thebrewery.co.uk/blog/tips-from-bl...</td>\n",
              "      <td>200</td>\n",
              "      <td>0</td>\n",
              "    </tr>\n",
              "    <tr>\n",
              "      <th>4</th>\n",
              "      <td>https://www.thebrewery.co.uk/blog/how-to-plan-...</td>\n",
              "      <td>200</td>\n",
              "      <td>0</td>\n",
              "    </tr>\n",
              "  </tbody>\n",
              "</table>\n",
              "</div>"
            ],
            "text/plain": [
              "                                             Address  ...  Meta Description 1 Pixel Width\n",
              "0  https://www.thebrewery.co.uk/blog/will-on-wine...  ...                               0\n",
              "1  https://www.thebrewery.co.uk/category/blog/pag...  ...                               0\n",
              "2  https://www.thebrewery.co.uk/blog/londons-call...  ...                               0\n",
              "3  https://www.thebrewery.co.uk/blog/tips-from-bl...  ...                               0\n",
              "4  https://www.thebrewery.co.uk/blog/how-to-plan-...  ...                               0\n",
              "\n",
              "[5 rows x 3 columns]"
            ]
          },
          "metadata": {
            "tags": []
          },
          "execution_count": 4
        }
      ]
    },
    {
      "cell_type": "markdown",
      "metadata": {
        "id": "JqnuyDjZyKfT"
      },
      "source": [
        "#### Finding all URLs where meta description are missing\n"
      ]
    },
    {
      "cell_type": "code",
      "metadata": {
        "id": "iKn4dAAGyPB2",
        "colab": {
          "base_uri": "https://localhost:8080/",
          "height": 219
        },
        "outputId": "e7b90e65-867d-4504-c947-e89da38c87d9"
      },
      "source": [
        "# Keep all rows representing a page with status = 200, with md 0, from the Italian blog and with Position < 15 \n",
        " \n",
        "#df = df[(df['Status Code'] == 200) & ((df['Meta Description 1 Pixel Width']== 0)) & (df['Address'].str.contains(\"blog/it\")) & (df['Position'] < 15) & (df['Position'] > 3)] # Use this with Screaming Frog\n",
        "\n",
        "df = df[(df['Status Code'] == 200) & \n",
        "        ((df['Meta Description 1 Pixel Width']== 0))\n",
        "        ] # Use this with Screaming Frog\n",
        "\n",
        "\n",
        "print(\"we have to process:\", len(df), \" urls\")\n",
        "\n",
        "# Reindex df\n",
        "df.index = range(len(df.index))\n",
        "\n",
        "df.head()"
      ],
      "execution_count": null,
      "outputs": [
        {
          "output_type": "stream",
          "text": [
            "we have to process: 19  urls\n"
          ],
          "name": "stdout"
        },
        {
          "output_type": "execute_result",
          "data": {
            "text/html": [
              "<div>\n",
              "<style scoped>\n",
              "    .dataframe tbody tr th:only-of-type {\n",
              "        vertical-align: middle;\n",
              "    }\n",
              "\n",
              "    .dataframe tbody tr th {\n",
              "        vertical-align: top;\n",
              "    }\n",
              "\n",
              "    .dataframe thead th {\n",
              "        text-align: right;\n",
              "    }\n",
              "</style>\n",
              "<table border=\"1\" class=\"dataframe\">\n",
              "  <thead>\n",
              "    <tr style=\"text-align: right;\">\n",
              "      <th></th>\n",
              "      <th>Address</th>\n",
              "      <th>Status Code</th>\n",
              "      <th>Meta Description 1 Pixel Width</th>\n",
              "    </tr>\n",
              "  </thead>\n",
              "  <tbody>\n",
              "    <tr>\n",
              "      <th>0</th>\n",
              "      <td>https://www.thebrewery.co.uk/blog/will-on-wine...</td>\n",
              "      <td>200</td>\n",
              "      <td>0</td>\n",
              "    </tr>\n",
              "    <tr>\n",
              "      <th>1</th>\n",
              "      <td>https://www.thebrewery.co.uk/category/blog/pag...</td>\n",
              "      <td>200</td>\n",
              "      <td>0</td>\n",
              "    </tr>\n",
              "    <tr>\n",
              "      <th>2</th>\n",
              "      <td>https://www.thebrewery.co.uk/blog/londons-call...</td>\n",
              "      <td>200</td>\n",
              "      <td>0</td>\n",
              "    </tr>\n",
              "    <tr>\n",
              "      <th>3</th>\n",
              "      <td>https://www.thebrewery.co.uk/blog/tips-from-bl...</td>\n",
              "      <td>200</td>\n",
              "      <td>0</td>\n",
              "    </tr>\n",
              "    <tr>\n",
              "      <th>4</th>\n",
              "      <td>https://www.thebrewery.co.uk/blog/how-to-plan-...</td>\n",
              "      <td>200</td>\n",
              "      <td>0</td>\n",
              "    </tr>\n",
              "  </tbody>\n",
              "</table>\n",
              "</div>"
            ],
            "text/plain": [
              "                                             Address  ...  Meta Description 1 Pixel Width\n",
              "0  https://www.thebrewery.co.uk/blog/will-on-wine...  ...                               0\n",
              "1  https://www.thebrewery.co.uk/category/blog/pag...  ...                               0\n",
              "2  https://www.thebrewery.co.uk/blog/londons-call...  ...                               0\n",
              "3  https://www.thebrewery.co.uk/blog/tips-from-bl...  ...                               0\n",
              "4  https://www.thebrewery.co.uk/blog/how-to-plan-...  ...                               0\n",
              "\n",
              "[5 rows x 3 columns]"
            ]
          },
          "metadata": {
            "tags": []
          },
          "execution_count": 5
        }
      ]
    },
    {
      "cell_type": "markdown",
      "metadata": {
        "id": "jZ2rVSKy2MWB"
      },
      "source": [
        "## Summarizing \n"
      ]
    },
    {
      "cell_type": "markdown",
      "metadata": {
        "id": "vcD42IUDqlYb"
      },
      "source": [
        "## Running the analysis \n",
        "\n",
        "In the next cells we have one function called `url_to_string` to get the text from a URL (make sure to fine-tune this one if you know the class that contains the body of the article on your website) "
      ]
    },
    {
      "cell_type": "code",
      "metadata": {
        "id": "z-NV-LUQqy1u",
        "colab": {
          "base_uri": "https://localhost:8080/",
          "height": 70
        },
        "outputId": "8a1ac3b2-7eec-4657-cdba-ae0bc98e63e4"
      },
      "source": [
        "# Get clean text from URL\n",
        "\n",
        "def url_to_string(url):\n",
        "  try:\n",
        "    headers = {'User-Agent': 'Mozilla/5.0 (Windows NT 6.1; WOW64; rv:50.0) Gecko/20100101 Firefox/50.0'}\n",
        "    res = requests.get(url, headers=headers)\n",
        "    html = res.text\n",
        "    soup = BeautifulSoup(html, 'html5lib')\n",
        "    for script in soup([\"script\", \"style\", 'aside']):\n",
        "        script.extract()\n",
        "    \n",
        "  # uncomment the lines in the if/else block and comment the one after if you know the name of the class containing the article body \n",
        "  #  if isinstance(soup.find('div', {'class' :'entry-content'}), type(None)): # here is the div containing the content\n",
        "\n",
        "    #MK Changing the class name from 'entry-content' to 'post-body' and testing the output\n",
        "    if isinstance(soup.find('div', {'class' :'post-body'}), type(None)): # here is the div containing the content\n",
        "      return \" \".join(re.split(r'[\\n\\t]+', soup.get_text()))\n",
        "    else:\n",
        "      return \" \".join(re.split(r'[\\n\\t]+', soup.find('div', {'class' :'post-body'}).text))   \n",
        "\n",
        "     # return \" \".join(re.split(r'[\\n\\t]+', soup.find('div', {'class' :'entry-content'}).text))   \n",
        "\n",
        "  except requests.exceptions.HTTPError as err:\n",
        "    print(err)\n",
        "    sys.exit(1)\n",
        "    return err\n",
        "\n",
        "'''\n",
        "# Get clean text from URL using Trafilatura\n",
        "\n",
        "def url_to_string(url):\n",
        "  try:\n",
        "    downloaded = trafilatura.fetch_url(url)\n",
        "    if downloaded is not None: # assuming the download was successful\n",
        "      result = trafilatura.extract(downloaded, include_tables=False, include_formatting=False, include_comments=False) \n",
        "    return result\n",
        "  except ValueError as err:\n",
        "    print(err)\n",
        "    sys.exit(1)\n",
        "    return err\n",
        "'''\n"
      ],
      "execution_count": null,
      "outputs": [
        {
          "output_type": "execute_result",
          "data": {
            "application/vnd.google.colaboratory.intrinsic+json": {
              "type": "string"
            },
            "text/plain": [
              "'\\n# Get clean text from URL using Trafilatura\\n\\ndef url_to_string(url):\\n  try:\\n    downloaded = trafilatura.fetch_url(url)\\n    if downloaded is not None: # assuming the download was successful\\n      result = trafilatura.extract(downloaded, include_tables=False, include_formatting=False, include_comments=False) \\n    return result\\n  except ValueError as err:\\n    print(err)\\n    sys.exit(1)\\n    return err\\n'"
            ]
          },
          "metadata": {
            "tags": []
          },
          "execution_count": 6
        }
      ]
    },
    {
      "cell_type": "code",
      "metadata": {
        "id": "_hp_UN8x14nw",
        "colab": {
          "base_uri": "https://localhost:8080/",
          "height": 1000,
          "referenced_widgets": [
            "e23d40f300bc4bc796d1f1e3a73a36ae",
            "1290d1d73c4c41729851a570c2b5e5b3",
            "d02bb14d90c646f5b1157be1e5fae9fa",
            "9a948dc723c24a16834083d0ffcdb2c8",
            "008391c6e7db4dad8bb7947c7ee6eecc",
            "cea68fc576ec46529c1296334c2b689d",
            "6144161c8d804e30a0cf71cd15026062",
            "2c11a27a49524bb3b76829d403563bdb",
            "1219e3f34e4b4c3c9e0cf54f02098aaa",
            "1ad4f25a5f8f46a7bad8b89fb28d0a26",
            "db7c69ee0bcf4054bbbb2b7db2eca3ab",
            "04099ba638b24a5fbcfa541a03c72c0b",
            "d5b278d69df44cd6b9d2fed0be285206",
            "696675f448b14ac487c050d7f63b2e4e",
            "5f7f8c32ccd249d590d48291640d7061",
            "d147ae09ef7e4fbf9f837a437ba365d4",
            "73c22026d1394a51afcfced2e150c698",
            "e221baf98b2348a68be273bced69f5b4",
            "55efc44381be4f28af9b2fbb22192647",
            "eda687bf007f48298e013842d6bef70b",
            "3fe4a13fde6345b1bc104ff923b43fae",
            "2988400bc167431581f9c797d0665911",
            "57b80eef0bae4fd9b1ba89907bb6c42c",
            "28869ec19d3746fc91c00568e44c996b",
            "2617311161b04c50985b623d2ac7548e",
            "e78dcc5ceebb4186858bdc0019afd5b3",
            "cd1c69c1063d4e14a60c008248b9a034",
            "7966f51fdd93472da7a6a406694af2c5",
            "9b2e2e6e5e0f4e118c40fefeefe41448",
            "6fa94b0cf56e403fa560cd5922e5ca4f",
            "cedc271b15b340c0bc80cc5dc84bffcb",
            "18e28f8bfa344996953bbe412a57c291",
            "17cf481247ec45e38a17b473c77c1573",
            "c92278d709334957bf5f3d461b09ee53",
            "3e27ce0849b94fc0ac30607d857b24c1",
            "358dfc430ef341d5b5eb6a9a0b65c04a",
            "6a9e06a30f774db385e1843d27d1f28d",
            "809261a94c3345f6b21d5b54ffc245da",
            "2733b81ff4e4406cacdbe115d1c97237",
            "4028970c04f847438c9c85297fea8514"
          ]
        },
        "outputId": "3cb6d5f9-dc60-4422-d4a7-bd3926bde78c"
      },
      "source": [
        "# Create a list to store the MDs\n",
        "data_x = [] \n",
        "\n",
        "#MK Commenting out summarizer import because it is already present at the start of the code\n",
        "#from summarizer import Summarizer\n",
        "\n",
        "# For each URL in the input CSV run the analysis and store the results in the list \n",
        "for i in range(len(df)):\n",
        "    # Here is the URL to be analyzed\n",
        "    line = df.iloc[i][0]\n",
        "\n",
        "\t# Error handling for HTTP connection problems\n",
        "    try:\n",
        "       body = url_to_string(line)\n",
        "    except:\n",
        "    \tprint('error while fetching', line, err)\n",
        "\n",
        "#COMMENTING OUT ENTIRE BERT BLOCK    \n",
        "#\t# BERT\n",
        "#    print(\"Summarizing URL via BERT: \" + line)\n",
        "#    model = Summarizer()\n",
        "#   #MK: Adding maxlength=250 \n",
        "#   # result = model(body, min_length=60, ratio=0.005)\n",
        "#    result = model(body, min_length=60, max_length=250, ratio=0.005)\n",
        "\n",
        "#7th Jan 2021 Adding BART model code\n",
        "    print(\"Summarizing URL via BART: \" + line)\n",
        "\n",
        "    #BART model code\n",
        "    #bart_summarizer = pipeline(\"summarization\")\n",
        "    summarizer = pipeline(\"summarization\")\n",
        "    result = summarizer(body, min_length=50, max_length=250)\n",
        "\n",
        "    #full = ''.join(result)\n",
        "    #MK Adding for loop to fix error 'Index out of bounds' error\n",
        "    full = ''.join(str(v) for v in result)\n",
        "    print(full)\n",
        "\n",
        "\t# Storing all values into the list \n",
        "  #MK  data_x.append({\"url\":line, \"BERT\":full})\n",
        "\n",
        "  # Storing all values into the list \n",
        "    data_x.append({\"url\":line, \"BART\":full})\n"
      ],
      "execution_count": null,
      "outputs": [
        {
          "output_type": "stream",
          "text": [
            "Summarizing URL via BART: https://www.thebrewery.co.uk/blog/will-on-wine-a-guide-to-supermarket-wines/\n"
          ],
          "name": "stdout"
        },
        {
          "output_type": "display_data",
          "data": {
            "application/vnd.jupyter.widget-view+json": {
              "model_id": "e23d40f300bc4bc796d1f1e3a73a36ae",
              "version_minor": 0,
              "version_major": 2
            },
            "text/plain": [
              "HBox(children=(FloatProgress(value=0.0, description='Downloading', max=1621.0, style=ProgressStyle(description…"
            ]
          },
          "metadata": {
            "tags": []
          }
        },
        {
          "output_type": "stream",
          "text": [
            "\n"
          ],
          "name": "stdout"
        },
        {
          "output_type": "display_data",
          "data": {
            "application/vnd.jupyter.widget-view+json": {
              "model_id": "1219e3f34e4b4c3c9e0cf54f02098aaa",
              "version_minor": 0,
              "version_major": 2
            },
            "text/plain": [
              "HBox(children=(FloatProgress(value=0.0, description='Downloading', max=1222317369.0, style=ProgressStyle(descr…"
            ]
          },
          "metadata": {
            "tags": []
          }
        },
        {
          "output_type": "stream",
          "text": [
            "\n"
          ],
          "name": "stdout"
        },
        {
          "output_type": "display_data",
          "data": {
            "application/vnd.jupyter.widget-view+json": {
              "model_id": "73c22026d1394a51afcfced2e150c698",
              "version_minor": 0,
              "version_major": 2
            },
            "text/plain": [
              "HBox(children=(FloatProgress(value=0.0, description='Downloading', max=898822.0, style=ProgressStyle(descripti…"
            ]
          },
          "metadata": {
            "tags": []
          }
        },
        {
          "output_type": "stream",
          "text": [
            "\n"
          ],
          "name": "stdout"
        },
        {
          "output_type": "display_data",
          "data": {
            "application/vnd.jupyter.widget-view+json": {
              "model_id": "2617311161b04c50985b623d2ac7548e",
              "version_minor": 0,
              "version_major": 2
            },
            "text/plain": [
              "HBox(children=(FloatProgress(value=0.0, description='Downloading', max=456318.0, style=ProgressStyle(descripti…"
            ]
          },
          "metadata": {
            "tags": []
          }
        },
        {
          "output_type": "stream",
          "text": [
            "\n"
          ],
          "name": "stdout"
        },
        {
          "output_type": "display_data",
          "data": {
            "application/vnd.jupyter.widget-view+json": {
              "model_id": "17cf481247ec45e38a17b473c77c1573",
              "version_minor": 0,
              "version_major": 2
            },
            "text/plain": [
              "HBox(children=(FloatProgress(value=0.0, description='Downloading', max=26.0, style=ProgressStyle(description_w…"
            ]
          },
          "metadata": {
            "tags": []
          }
        },
        {
          "output_type": "stream",
          "text": [
            "\n",
            "{'summary_text': ' We asked our beverage manager, and resident wine expert, Will, for his buying tips and recommendations that you can buy today from your local supermarket . Lidl and Aldi wines are (mostly) fantastic value for money . For those with deeper pockets, Waitrose has an extensive range with some excellent Old and New World examples at a competitive price .'}\n",
            "Summarizing URL via BART: https://www.thebrewery.co.uk/category/blog/page/4/\n"
          ],
          "name": "stdout"
        },
        {
          "output_type": "stream",
          "text": [
            "Your max_length is set to 250, but you input_length is only 84. You might consider decreasing max_length manually, e.g. summarizer('...', max_length=50)\n"
          ],
          "name": "stderr"
        },
        {
          "output_type": "stream",
          "text": [
            "{'summary_text': \" The Brewery was in the driver's seat for Amazon Prime’s launch of The Grand Tour Season Three . We played host to a spectacular event to mark the launch of the new season . To help understand what goes into producing a product launch we have produced the following case study .\"}\n",
            "Summarizing URL via BART: https://www.thebrewery.co.uk/blog/londons-calling-case-study/\n"
          ],
          "name": "stdout"
        },
        {
          "output_type": "stream",
          "text": [
            "Your max_length is set to 250, but you input_length is only 116. You might consider decreasing max_length manually, e.g. summarizer('...', max_length=50)\n"
          ],
          "name": "stderr"
        },
        {
          "output_type": "stream",
          "text": [
            "{'summary_text': ' Just before lock-down we hosted London’s Calling Ltd, an event for the Salesforce community . Although the decision was made to not have any guests at the venue, the event was still successfully delivered with activities and speakers onsite and online .'}\n",
            "Summarizing URL via BART: https://www.thebrewery.co.uk/blog/tips-from-blake-ezra-award-winning-photographer/\n",
            "{'summary_text': \" Blake Ezra is a firmly established and very talented photographer . He's been to The Brewery many times to give us some tips to help us plan our wedding day . Here he gives us his top 10 wedding planning tips for Emma and Daniel . Enjoy being engaged and let go when choosing your professional team .\"}\n",
            "Summarizing URL via BART: https://www.thebrewery.co.uk/blog/how-to-plan-a-royal-wedding-of-your-own/\n",
            "{'summary_text': \" Prince Harry and Meghan Markle will marry at St George’s Chapel in Windsor on Saturday 19th May . There are a few royal traditions that can be incorporated into a wedding of any size . Want to know how to integrate some of these elements into your own special day? Here's how to plan a royal wedding of your own .\"}\n",
            "Summarizing URL via BART: https://www.thebrewery.co.uk/blog/what-we-learnt-from-the-latest-knowledge-guild/\n",
            "{'summary_text': ' We always enjoy hosting #KnowledgeGuild with Speakers Corner . Brendan Hall, Maggie Alphonsi, Sally Bundock and Ed Stafford took to the stage . We jotted down their insights and advice which will help us in our quest for #MondayMotivation .'}\n",
            "Summarizing URL via BART: https://www.thebrewery.co.uk/blog/three-tips-to-help-bosses-throw-a-great-office-christmas-party/\n",
            "{'summary_text': \" Follow these three tips and you're on your way to throwing the best office Christmas party ever . As a gesture of goodwill, you might decide to close the office early on the day of the party . If you’ve spent good money hiring out a venue, you want to make sure your guests enjoy their time there . Don’t hold the party in your office - that’s a clean place; a place of business .\"}\n",
            "Summarizing URL via BART: https://www.thebrewery.co.uk/blog/great-british-food/\n"
          ],
          "name": "stdout"
        },
        {
          "output_type": "stream",
          "text": [
            "Your max_length is set to 250, but you input_length is only 35. You might consider decreasing max_length manually, e.g. summarizer('...', max_length=50)\n"
          ],
          "name": "stderr"
        },
        {
          "output_type": "stream",
          "text": [
            "{'summary_text': \" Executive Chef Tom Gore features in this months Great British Food magazine . You can read all about his famous Jacob’s Ladder Lasagne right here .    Executive Chef  Gore is featured in this month's Great British food magazine .\"}\n",
            "Summarizing URL via BART: https://www.thebrewery.co.uk/blog/christmas-parties-2019-the-goodnight-cabaret/\n",
            "{'summary_text': \" Christmas 2019 at the Brewery was amazing. We were overwhelmed with the success and popularity of last years' tribute to 1960s Las Vegas . This year we wanted to go bigger and better than ever before and we are delighted to announce our 2019 Christmas party theme, ‘The Goodnight Cabaret’\"}\n",
            "Summarizing URL via BART: https://www.thebrewery.co.uk/blog/supplier-spotlight-satureyes-my-favourite-photos/\n",
            "{'summary_text': ' Rick Bronks of Satureyes is one of the best known and most widely respected photographers in the events industry . His work has been featured in many publications, and there is more than a fair chance you’ve attended an event that Rick was shooting . He has thousands of photos taken at The Brewery, with the reason why they stand out for him .'}\n",
            "Summarizing URL via BART: https://www.thebrewery.co.uk/blog/speakers-corner-at-the-brewery/\n"
          ],
          "name": "stdout"
        },
        {
          "output_type": "stream",
          "text": [
            "Your max_length is set to 250, but you input_length is only 126. You might consider decreasing max_length manually, e.g. summarizer('...', max_length=50)\n"
          ],
          "name": "stderr"
        },
        {
          "output_type": "stream",
          "text": [
            "{'summary_text': ' In association with Speakers Corner we hosted an engaging and informative evening focusing on Innovation for the 21st century . The event was hosted by Kate Silverton and we heard from 3 amazing speakers . We even made a little video on the night that you can see right here .'}\n",
            "Summarizing URL via BART: https://www.thebrewery.co.uk/blog/the-brewery-and-speakers-corner-get-technical-with-knowledge-guild-the-incredible-power-of-technology-brought-to-life/\n",
            "{'summary_text': ' The Brewery and Speakers Corner hosted the first Knowledge Guild of the year . Speakers included Rachel Botsman, James Poulter and Samantha Payne . The 160-strong audience were treated to personal stories on everything from AI, voice and wearable technology, to robotics and prosthetics .'}\n",
            "Summarizing URL via BART: https://www.thebrewery.co.uk/blog/what-you-need-for-the-ideal-office-christmas-party/\n",
            "{'summary_text': ' The Brewery’s Creative Director, Simon Lockwood, explains how you could throw a festive do for your employees that will be remembered fondly all year long . No clichés! Choose a venue that includes everything in a package and offers a one-stop-shop for your Christmas party .'}\n",
            "Summarizing URL via BART: https://www.thebrewery.co.uk/blog/keeping-you-safe-the-brewery-is-accredited-with-aim-secure/\n"
          ],
          "name": "stdout"
        },
        {
          "output_type": "stream",
          "text": [
            "Your max_length is set to 250, but you input_length is only 149. You might consider decreasing max_length manually, e.g. summarizer('...', max_length=50)\n"
          ],
          "name": "stderr"
        },
        {
          "output_type": "stream",
          "text": [
            "{'summary_text': ' The venue has been accredited with the Meetings Industry Association – AIM Secure standard . It highlights our dedication to offering an environment that is healthy and hygienic as well as our commitment to do the very best for everyone who visits the venue .'}\n",
            "Summarizing URL via BART: https://www.thebrewery.co.uk/blog/the-goodnight-cabaret-in-pictures/\n"
          ],
          "name": "stdout"
        },
        {
          "output_type": "stream",
          "text": [
            "Your max_length is set to 250, but you input_length is only 91. You might consider decreasing max_length manually, e.g. summarizer('...', max_length=50)\n"
          ],
          "name": "stderr"
        },
        {
          "output_type": "stream",
          "text": [
            "{'summary_text': ' The Goodnight Cabaret is The Brewery’s Christmas party theme for 2019 . There are 6 spaces available for hire and we can cater for parties from 40 – 1600 guests . To read more about the theme and packages available before booking your party click here .'}\n",
            "Summarizing URL via BART: https://www.thebrewery.co.uk/blog/amazon-prime-the-grand-tour-season-three-launch/\n",
            "{'summary_text': \" Amazon Prime hosted its Grand Tour Season Three launch at The Brewery, a venue in the heart of London . The Brewery is a unique and flexible event venue dating back to 1750 . The 18th century cobbled Courtyard was used for the arrival of guests . The Porter Tun room was also transformed into a pub called 'The Cock and Balls' The rear half of the Porter Tun was transformed into the screening room .\"}\n",
            "Summarizing URL via BART: https://www.thebrewery.co.uk/blog/world-cup-2018-screenings/\n"
          ],
          "name": "stdout"
        },
        {
          "output_type": "stream",
          "text": [
            "Your max_length is set to 250, but you input_length is only 120. You might consider decreasing max_length manually, e.g. summarizer('...', max_length=50)\n"
          ],
          "name": "stderr"
        },
        {
          "output_type": "stream",
          "text": [
            "{'summary_text': ' The Brewery has a selection of spaces available for hire that can host parties from 30 – 700 guests . The packages are all inclusive and you can see what is included below . If you would like more information or would like to check availability then please get in touch here .'}\n",
            "Summarizing URL via BART: https://www.thebrewery.co.uk/blog/bio-sculpture-gb-visit-the-golden-palms-lounge-and-casino/\n"
          ],
          "name": "stdout"
        },
        {
          "output_type": "stream",
          "text": [
            "Your max_length is set to 250, but you input_length is only 127. You might consider decreasing max_length manually, e.g. summarizer('...', max_length=50)\n"
          ],
          "name": "stderr"
        },
        {
          "output_type": "stream",
          "text": [
            "{'summary_text': ' Bio Sculpture’s 20th Anniversary party held on December 2, 2018 . The venue was decorated with our 2018 Christmas party theme ‘The Golden Palms Lounge and Casino’ which is a homage to Las Vegas in the 1960s . The event was an amazing success and much fun was had by all the guests in attendance .'}\n",
            "Summarizing URL via BART: https://www.thebrewery.co.uk/blog/playtech-ice-2016-afterparty/\n"
          ],
          "name": "stdout"
        },
        {
          "output_type": "stream",
          "text": [
            "Your max_length is set to 250, but you input_length is only 128. You might consider decreasing max_length manually, e.g. summarizer('...', max_length=50)\n"
          ],
          "name": "stderr"
        },
        {
          "output_type": "stream",
          "text": [
            "{'summary_text': ' ICE Gaming afterparty for Playtech Software Ltd held in conjunction with Made Up . Over 1,000 high profile guests attended this event which is a highlight of the gaming calendar . We consulted with Playtech to create a bespoke food and cocktail menu .'}\n"
          ],
          "name": "stdout"
        }
      ]
    },
    {
      "cell_type": "markdown",
      "metadata": {
        "id": "p00mk90Szg6w"
      },
      "source": [
        "### DO NOT RUN Testing BERT Multilingual\n",
        "\n",
        "This cell is alternative to the cells above and will load a varian of BERT called `bert-base-multilingual-cased`.\n",
        "\n",
        "Trained on cased text in the top **104 languages** with the largest Wikipedias."
      ]
    },
    {
      "cell_type": "code",
      "metadata": {
        "id": "ifLNguJP0T8S"
      },
      "source": [
        "# Create a list to store the MDs\n",
        "data_x = [] \n",
        "\n",
        "from transformers import BertTokenizer, BertModel\n",
        "\n",
        "bert_model = BertModel.from_pretrained('bert-base-multilingual-cased', output_hidden_states=True)\n",
        "bert_tokenizer = BertTokenizer.from_pretrained('bert-base-multilingual-cased')\n",
        "\n",
        "from summarizer import Summarizer\n",
        "# For each URL in the input CSV run the analysis and store the results in the list \n",
        "for i in range(len(df)):\n",
        "    # Here is the URL to be analyzed\n",
        "    line = df.iloc[i][0]\n",
        "\n",
        "\t# Error handling for HTTP connection problems\n",
        "    try:\n",
        "       body = url_to_string(line)\n",
        "    except:\n",
        "    \tprint('error while fetching', line, err)\n",
        "    \n",
        "\t# BERT\n",
        "    print(\"Summarizing URL via BERT  ML: \" + line)\n",
        "    model = Summarizer(custom_model=bert_model, custom_tokenizer=bert_tokenizer)\n",
        "    #result = model(body, min_length=60, ratio=0.005)\n",
        "    result = model(body, min_length=60, max_length=155, ratio=0.005)\n",
        "    full = ''.join(result)\n",
        "    print(full)\n",
        "\n",
        "\t# Storing all values into the list \n",
        "    data_x.append({\"url\":line, \"BERT\":full})\n"
      ],
      "execution_count": null,
      "outputs": []
    },
    {
      "cell_type": "markdown",
      "metadata": {
        "id": "XNq3kDN3WRQt"
      },
      "source": [
        "### DO NOT RUN  Testing the brand new ALBERT implementation\n",
        "\n",
        "This cell is alternative to the cell above and will load ALBERT (see: \"[ALBERT: A Lite BERT For Self-Supervised Learning of Language Representations](https://arxiv.org/abs/1909.11942)\") "
      ]
    },
    {
      "cell_type": "code",
      "metadata": {
        "id": "J7THygT5WPAL"
      },
      "source": [
        "# Create a list to store the MDs\n",
        "data_x = [] \n",
        "\n",
        "from transformers import AlbertTokenizer, AlbertModel\n",
        "\n",
        "albert_model = AlbertModel.from_pretrained('albert-base-v1', output_hidden_states=True)\n",
        "albert_tokenizer = AlbertTokenizer.from_pretrained('albert-base-v1')\n",
        "\n",
        "from summarizer import Summarizer\n",
        "# For each URL in the input CSV run the analysis and store the results in the list \n",
        "for i in range(len(df)):\n",
        "    # Here is the URL to be analyzed\n",
        "    line = df.iloc[i][0]\n",
        "\n",
        "\t# Error handling for HTTP connection problems\n",
        "    try:\n",
        "       body = url_to_string(line)\n",
        "    except:\n",
        "    \tprint('error while fetching', line, err)\n",
        "    \n",
        "\t# BERT\n",
        "    print(\"Summarizing URL via ALBERT: \" + line)\n",
        "    model = Summarizer(custom_model=albert_model, custom_tokenizer=albert_tokenizer)\n",
        "    result = model(body, min_length=60, ratio=0.005)\n",
        "    full = ''.join(result)\n",
        "    print(full)\n",
        "\n",
        "\t# Storing all values into the list \n",
        "    data_x.append({\"url\":line, \"BERT\":full})\n"
      ],
      "execution_count": null,
      "outputs": []
    },
    {
      "cell_type": "markdown",
      "metadata": {
        "id": "3ZSEg-Bx61ea"
      },
      "source": [
        "## Storing data \n",
        "\n",
        "In the following cells we are going to save a CSV containing for each url the summaries generated by the different algos. \n"
      ]
    },
    {
      "cell_type": "code",
      "metadata": {
        "id": "d-46i_W868LU"
      },
      "source": [
        "# Save results to the output CSV\n",
        "df_new = pd.DataFrame(data_x, columns=[\"url\", \"BART\"])\n"
      ],
      "execution_count": null,
      "outputs": []
    },
    {
      "cell_type": "code",
      "metadata": {
        "id": "-3eT90mn7oac"
      },
      "source": [
        "df_new.head()"
      ],
      "execution_count": null,
      "outputs": []
    },
    {
      "cell_type": "code",
      "metadata": {
        "id": "NpapAYpp8Djw",
        "colab": {
          "base_uri": "https://localhost:8080/",
          "height": 52
        },
        "outputId": "4363936e-9a70-4b8a-d2c5-296a805046a5"
      },
      "source": [
        "from google.colab import files\n",
        "\n",
        "# We set the variable forthe name of the CSV where we will store the new MDs \n",
        "outputcsv = 'New Meta Description.csv'\n",
        "print(\"output csv name: \", outputcsv)\n",
        "\n",
        "df_new.to_csv(outputcsv, encoding='utf-8', index=False)\n",
        "print(\"Saving results on:\", outputcsv)\n",
        "files.download(outputcsv)"
      ],
      "execution_count": null,
      "outputs": [
        {
          "output_type": "stream",
          "text": [
            "output csv name:  New Meta Description.csv\n",
            "Saving results on: New Meta Description.csv\n"
          ],
          "name": "stdout"
        },
        {
          "output_type": "display_data",
          "data": {
            "application/javascript": [
              "\n",
              "    async function download(id, filename, size) {\n",
              "      if (!google.colab.kernel.accessAllowed) {\n",
              "        return;\n",
              "      }\n",
              "      const div = document.createElement('div');\n",
              "      const label = document.createElement('label');\n",
              "      label.textContent = `Downloading \"${filename}\": `;\n",
              "      div.appendChild(label);\n",
              "      const progress = document.createElement('progress');\n",
              "      progress.max = size;\n",
              "      div.appendChild(progress);\n",
              "      document.body.appendChild(div);\n",
              "\n",
              "      const buffers = [];\n",
              "      let downloaded = 0;\n",
              "\n",
              "      const channel = await google.colab.kernel.comms.open(id);\n",
              "      // Send a message to notify the kernel that we're ready.\n",
              "      channel.send({})\n",
              "\n",
              "      for await (const message of channel.messages) {\n",
              "        // Send a message to notify the kernel that we're ready.\n",
              "        channel.send({})\n",
              "        if (message.buffers) {\n",
              "          for (const buffer of message.buffers) {\n",
              "            buffers.push(buffer);\n",
              "            downloaded += buffer.byteLength;\n",
              "            progress.value = downloaded;\n",
              "          }\n",
              "        }\n",
              "      }\n",
              "      const blob = new Blob(buffers, {type: 'application/binary'});\n",
              "      const a = document.createElement('a');\n",
              "      a.href = window.URL.createObjectURL(blob);\n",
              "      a.download = filename;\n",
              "      div.appendChild(a);\n",
              "      a.click();\n",
              "      div.remove();\n",
              "    }\n",
              "  "
            ],
            "text/plain": [
              "<IPython.core.display.Javascript object>"
            ]
          },
          "metadata": {
            "tags": []
          }
        },
        {
          "output_type": "display_data",
          "data": {
            "application/javascript": [
              "download(\"download_61cfb66e-eed9-4519-b21c-52cd4638c5e1\", \"New Meta Description.csv\", 7572)"
            ],
            "text/plain": [
              "<IPython.core.display.Javascript object>"
            ]
          },
          "metadata": {
            "tags": []
          }
        }
      ]
    }
  ]
}